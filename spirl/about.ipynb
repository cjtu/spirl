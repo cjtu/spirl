{
 "metadata": {
  "language_info": {
   "codemirror_mode": {
    "name": "ipython",
    "version": 3
   },
   "file_extension": ".py",
   "mimetype": "text/x-python",
   "name": "python",
   "nbconvert_exporter": "python",
   "pygments_lexer": "ipython3",
   "version": "3.7.1-final"
  },
  "orig_nbformat": 2,
  "kernelspec": {
   "name": "python_defaultSpec_1598225984609",
   "display_name": "Python 3.7.1 64-bit ('Anaconda3': conda)"
  }
 },
 "nbformat": 4,
 "nbformat_minor": 2,
 "cells": [
  {
   "cell_type": "markdown",
   "metadata": {},
   "source": [
    "# Scientific Programming IRL\n",
    "\n",
    "Welcome to the **Scientific Programming In Real Life** textbook! \n",
    "\n",
    "This book explains practical programming concepts for scientists in a hurry.\n",
    "\n",
    "## Getting started with SPIRL\n",
    "\n",
    "This textbook can be used in a few ways:\n",
    "\n",
    "- as a top-to-bottom interactive crash course in scientific programming ([start here](bash_about))\n",
    "- as a reference for when you can't remember how to do that one thing (trying searching in the left pane)\n",
    "- to make your own programming course (let me try to convince you to [contribute](https://github.com/cjtu/spirl/CONTRIBUTING.md) to this one instead!)\n",
    "\n",
    "## Why another learn-to-code resource?\n",
    "\n",
    "There are many free learn-to-code resources which are great but require 40+ hours to complete. On the other hand, quickly copy and pasting impenetrable code from StackOverflow can lead to confusion and the feeling that coding is some sort of arcane art.\n",
    "\n",
    "This book was crafted **by scientists, for scientists** with 2 main philosophies:\n",
    "\n",
    "- _scientists are_ **busy**\n",
    "- _scientists like to_ **understand** _how things work_\n",
    "\n",
    "These two philosophies help make this book as **concise** as it can be while giving just **enough depth** to understand why these concepts here are important and how they work.\n",
    "\n",
    "It is also meant to be a resource that is easy to follow start-to-finish, but also quick to refer back to in a pinch.\n",
    "\n",
    "## An interactive textbook\n",
    "\n",
    "SPIRL is powered by [JupyterBook](https://github.com/jupyter/jupyter-book), a fantastic project which makes responsive online textbooks like this one, while allowing readers to execute code without leaving the site!\n",
    "\n",
    "Don't believe me? Try cliking the rocket icon at the top and choosing the **Live Code** option. This is still an experimental feature so sometimes the kernel is slow to start... But now you should be able to run the cell below!\n"
   ]
  },
  {
   "cell_type": "code",
   "execution_count": null,
   "metadata": {
    "tags": []
   },
   "outputs": [],
   "source": [
    "print(\"Hello World!\")"
   ]
  },
  {
   "cell_type": "markdown",
   "metadata": {},
   "source": [
    "Each tutorial in this book is intended to be hands-on. Learning scientific programming is like learning a language: you need to practice in order to become fluent! When you see code cells like these throughout the SPIRL text, try editing and running them to see what happens!"
   ]
  },
  {
   "cell_type": "code",
   "execution_count": null,
   "metadata": {
    "tags": [
     "hide-cell",
     "thebe-init"
    ]
   },
   "outputs": [],
   "source": [
    "import random\n",
    "def get_lucky(n): \n",
    "    return '-'.join([str(random.randint(1, 49)) for i in range(n)])"
   ]
  },
  {
   "cell_type": "code",
   "execution_count": null,
   "metadata": {
    "tags": []
   },
   "outputs": [],
   "source": [
    "N = 8  # change me!\n",
    "print('Your lucky numbers for today are:')\n",
    "print(lucky)"
   ]
  },
  {
   "cell_type": "markdown",
   "metadata": {},
   "source": [
    "## Fall 2020 Syllabus\n",
    "\n",
    "This schedule is for those taking the SPIRL course at Northern Arizona University. It will be updated as the course progresses.\n",
    "\n",
    "**Last edit: Sep 1, 2020**\n",
    "\n",
    "| Week   | Date  | Topics | Pre-class homework |\n",
    "| :--- | :------ | :----- | :----------------- |\n",
    "| 1 | Sep 11 | Shell navigation, bash scripts | Ch. 1 ([link](bash_about)) |\n",
    "| 2 | Sep 18 | Git & Version control | Ch. 2 ([link](git_about))|\n",
    "| 3 | Sep 25 | Python basics & style (bool, int, float, str, list, tuple)  |  Ch. 3.1-3.3 ([link](python_about)) |\n",
    "| 4 | Oct 2 | Methods, functions, conditionals, loops | Ch. 3.4-3.7 ([link](python_basic-types)) |\n",
    "| 5 | Oct 9 | Set, dict, modules, numpy, matplotlib  | Ch. 3.8-4.3 ([link](python_adv-types))  |\n",
    "| 6 | Oct 16 | scipy, pandas | Ch. 4.4-4.5 ([link](sp_about)) |\n",
    "| 7 | Oct 23 | Managing environments, reproducibility | Ch. 5 ([link](anaconda_about)) |\n",
    "| 8 | Oct 30 | Hacktoberfest! | Get a GitHub account and review Ch. 2 ([link](git_practice)) |\n",
    "\n",
    "\n",
    "## Issues\n",
    "\n",
    "Did you find a glaring typo? Is one of the links broken? Is the whole textbook _broken_?? It would be super helpful if you could report bugs, typos, or glitches over at the GitHub issues page [here](https://github.com/cjtu/spirl/issues). Thanks for helping make this textbook even more useful!\n",
    "\n",
    "## Contributing\n",
    "\n",
    "This book is a work in progress! Have ideas for new tutorials? Want to apply your copy-editing skills? Check out the contributing guide on GitHub [here](https://github.com/cjtu/spirl/blob/master/CONTRIBUTING.md). This textbook wouldn't be possible without help from its [contributors](https://github.com/cjtu/spirl/graphs/contributors)!\n",
    "\n",
    "## Supporting SPIRL\n",
    "\n",
    "SPIRL will always be **free** and **open source**. If you'd like to support it, consider *sharing SPIRL with friends or peers* who you think would find it useful. If you can spare the time, you can support this project by contributing (see above). If you *use any of the code or concepts in an article / lesson / publication* (please feel free to!), you can **cite SPIRL** [here](). If you'd like to support SPIRL by buying me a coffee, you can also do that [here](https://buymeacoff.ee/cjtu).\n"
   ]
  }
 ]
}