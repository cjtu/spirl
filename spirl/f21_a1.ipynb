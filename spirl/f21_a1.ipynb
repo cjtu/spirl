{
    "cells": [
        {
            "cell_type": "markdown",
            "source": [
                "# Assignment 1 (Sep 21)\n",
                "\n",
                "Welcome to assignment 1! In class we will cover the following topics:\n",
                "\n",
                "```{note}\n",
                "Lecture recording links will be uploaded after each class to the syllabus [here](https://cjtu.github.io/spirl/f21_about.html).\n",
                "```\n",
                "\n",
                "1. Quick Jupyter interface tour\n",
                "2. Difference between a `list` and a `numpy.array` in python\n",
                "3. How to make a function\n",
                "4. Simple plotting with `matplotlib.pyplot`\n",
                "\n",
                "## Readings (optional)\n",
                "\n",
                "If you find this week's material new or challenging, you may want to read through some or all the following SPIRL chapters before turning in your assignment:\n",
                "\n",
                "- [Ch. 2.2 Git Basics](https://cjtu.github.io/spirl/git_basics.html)\n",
                "- [Ch. 3.3 Python Basic Data Types](https://cjtu.github.io/spirl/python_basic-types.html)\n",
                "- [Ch. 3.5 Functions](https://cjtu.github.io/spirl/python_functions.html)\n",
                "- [Ch. 4.1 Jupyter Notebooks](https://cjtu.github.io/spirl/sp_jupyter.html)\n",
                "- [Ch. 4.2 Numpy](https://cjtu.github.io/spirl/sp_numpy.html)\n",
                "\n",
                "## VS Code Setup\n",
                "\n",
                "**Extensions:** This week we will use the following *Extensions*. In Visual Studio Code, head to the Extensions icon in the left sidebar (icon with 4 squares) and search for / install:\n",
                "\n",
                "- `Python`\n",
                "- `GitHub Pull Requests and Issues`\n",
                "- `GitLens -- Git supercharged`\n",
                "\n",
                "They should appear under the heading **Installed** when they are ready.\n",
                "\n",
                "**Log in with GitHub:** Also click the Accounts icon in the left sidebar and are logged into your GitHub account. It should show:  `username (GitHub)` when you are signed in.\n",
                "\n",
                "You may need to reload the window after installing / signing in.\n",
                "\n",
                "```{note}\n",
                "You may reload VS Code at any time by pressing <kbd>⌃ Control</kbd> <kbd>⇧ Shift</kbd> <kbd>P</kbd> (Mac: <kbd>⌘ Command</kbd> <kbd>⇧ Shift</kbd> <kbd>P</kbd>), typing `Reload Window` and then pressing Enter. \n",
                "```\n"
            ],
            "metadata": {}
        },
        {
            "cell_type": "markdown",
            "source": [
                "## Free Fall\n",
                "\n",
                "$$\n",
                "H = \\frac{1}{2} g t^2\n",
                "$$\n",
                "\n",
                "We can compute math equations in Python just like we would using a calculator. We'll first define the variables `g` and `t` and then type the equation. We write the variables first because python executes code line by line. If we put the equation first, python would get mad because it wouldn't know what `g` and `t` were in the equation. So here's how we do this...\n",
                "\n",
                "For more info please see [3.3. Basic Data Types](https://cjtu.github.io/spirl/python_basic-types.html#).\n"
            ],
            "metadata": {}
        },
        {
            "cell_type": "code",
            "execution_count": null,
            "source": [
                "g_earth   = 9.80665     # m/s\n",
                "fall_time = 10          # sec\n",
                "\n",
                "H = (1/2) * g_earth * fall_time**2\n",
                "\n",
                "# print(H)\n",
                "print('We will fall about {:1.2f} m on Earth after {:} sec'.format(H, fall_time))"
            ],
            "outputs": [],
            "metadata": {}
        },
        {
            "cell_type": "markdown",
            "source": [
                "## Python `list` vs. Numpy `array`\n",
                "\n",
                "What if we want to compute the falling height at several times?\n"
            ],
            "metadata": {}
        },
        {
            "cell_type": "code",
            "execution_count": null,
            "source": [
                "fall_time = [1, 2, 3, 4, 5, 6]  # [seconds]\n",
                "\n",
                "\n",
                "H = (1/2) * g_earth * fall_time**2\n",
                "print(H)"
            ],
            "outputs": [],
            "metadata": {}
        },
        {
            "cell_type": "markdown",
            "source": [
                "Here we get an error because the python `list` does not allow us to do math on it directly. We will use a *NumPy* array instead!\n",
                "\n",
                "### What is NumPy?\n",
                "\n",
                "NumPy is a fundamental package for scientific computing in Python. It provides a mathematical array/matrix object that we can perform computations on! It also allows us to quickly select data or perform operations on arrays, including:\n",
                "\n",
                "- math (add/subtract, multiply/divide, dot/cross products, etc.)\n",
                "- logical (union, intersection, complement, etc.)\n",
                "- shape manipulation\n",
                "- sorting\n",
                "- reading/writing to files (I/O)\n",
                "- Fourier transforms\n",
                "- basic stats and curve fitting\n",
                "- random simulations\n",
                "- and much more...\n",
                "\n",
                "### Vectorization makes NumPy Fast!\n",
                "\n",
                "When working with NumPy arrays, most operations are optimized in **pre-compiled C code**. That means that without ever needing to learn the **C** programming language, you can use code that runs as fast and efficiently as C right from Python. Writing code that uses arrays rather than looping through each element is called **Vectorization** and can make your programs many times faster!\n",
                "\n",
                "Stay tuned for later weeks when we will practice converting loops into arrays.\n",
                "\n",
                "* Read more on NumPy official site: [https://numpy.org/doc/stable/](https://numpy.org/doc/stable/)\n",
                "* Read about the basics of NumPy on SPIRL: [Ch. 4.2 Numpy](https://cjtu.github.io/spirl/sp_numpy.html)\n",
                "\n",
                "### Using NumPy\n",
                "\n",
                "To use NumPy, we need to import the `numpy` library which is usually done like so:"
            ],
            "metadata": {}
        },
        {
            "cell_type": "code",
            "execution_count": null,
            "source": [
                "import numpy as np"
            ],
            "outputs": [],
            "metadata": {}
        },
        {
            "cell_type": "markdown",
            "source": [
                "We can convert a python list containing numbers (`int` and/or `float`) to a numpy array like so:"
            ],
            "metadata": {}
        },
        {
            "cell_type": "code",
            "execution_count": null,
            "source": [
                "python_list = [1, 2, 3, 4, 5, 6]\n",
                "\n",
                "# Converting a python list into a NumPy array\n",
                "numpy_array = np.array(python_list)"
            ],
            "outputs": [],
            "metadata": {}
        },
        {
            "cell_type": "markdown",
            "source": [
                "We can check the type of an object in Python with the `type()` function:"
            ],
            "metadata": {}
        },
        {
            "cell_type": "code",
            "execution_count": null,
            "source": [
                "print('Python type:', type(python_list))\n",
                "print('NumPy type:', type(numpy_array))"
            ],
            "outputs": [],
            "metadata": {}
        },
        {
            "cell_type": "markdown",
            "source": [
                "### List/Array/String Indexing\n",
                "\n",
                "We can index a NumPy array similarly to a Python `str` or `list` either from the front (starting at 0) or from the end (starting at -1).\n",
                "\n",
                "See more on SPIRL [3.3.7. Str indexing](https://cjtu.github.io/spirl/python_basic-types.html#str-indexing)\n",
                "\n",
                "![indexing](./images/indexing.png)\n",
                "\n",
                "For an array, our values are numbers instead of characters so if our array is\n",
                "\n",
                "`array = np.array([11, 22, 33, 44, 55])`\n",
                "\n",
                "We could access each element like:\n",
                "\n",
                "|                   |     |     |     |     |    |\n",
                "|-------------------|-----|-----|-----|-----|----|\n",
                "| Forward indexing  | 0   | 1   | 2   | 3   | 4  |\n",
                "| Array             | 11  | 22  | 33  | 44  | 55 |\n",
                "| Backward indexing | -5  | -4  | -3  | -2  | -1 |\n"
            ],
            "metadata": {}
        },
        {
            "cell_type": "code",
            "execution_count": null,
            "source": [
                "test_list  = [11, 22, 33, 44, 55]\n",
                "test_array = np.array(test_list)\n",
                "\n",
                "print(test_list)\n",
                "print(test_array)"
            ],
            "outputs": [],
            "metadata": {}
        },
        {
            "cell_type": "code",
            "execution_count": null,
            "source": [
                "print(test_list[0])\n",
                "print(test_array[0])"
            ],
            "outputs": [],
            "metadata": {}
        },
        {
            "cell_type": "code",
            "execution_count": null,
            "source": [
                "## What if you only want [22,33,44] ??"
            ],
            "outputs": [],
            "metadata": {}
        },
        {
            "cell_type": "markdown",
            "source": [
                "### Array generation with NumPy\n",
                "\n",
                "There are many built-in NumPy functions that make it easy to make new arrays. For example:\n",
                "\n",
                "- `np.zeros()`: Make an array of all 0s\n",
                "- `np.ones()`: Make an array of all 1s\n",
                "- `np.arange()`: Make an array that ranges between two values increasing by a certain step size\n",
                "- `np.linspace()`: Make an array that ranges between two values and is a fixed length\n",
                "- `np.logspace()`: Make an array that ranges between two powers of 10, is a fixed length, and takes logarithmic step sizes\n",
                "- and more...\n",
                "\n",
                "Try it yourself, call `help(np.funcname)`, or google for more info!\n",
                "\n",
                "**(Demo do a search on np.arange)**"
            ],
            "metadata": {}
        },
        {
            "cell_type": "code",
            "execution_count": null,
            "source": [
                "g_earth   = 9.80665                 # m/s\n",
                "fall_time = np.arange(0, 100, 5)    # sec\n",
                "\n",
                "H = (1/2) * g_earth * fall_time**2\n",
                "\n",
                "print(H)"
            ],
            "outputs": [],
            "metadata": {}
        },
        {
            "cell_type": "code",
            "execution_count": null,
            "source": [
                "H_delta = H[-1] - H[0]\n",
                "\n",
                "print(f'After {fall_time.max():1.0f} sec, we will fall {H_delta:1.2f} m on Earth' )"
            ],
            "outputs": [],
            "metadata": {}
        },
        {
            "cell_type": "markdown",
            "source": [
                "## How to make a function\n",
                "\n",
                "$$\n",
                "{\\rm free\\_fall\\_h}(t) = \\frac{1}{2} g t^2\n",
                "$$\n",
                "\n",
                "Another way of computing this equation is by defining a *Function*. All functions are set up like `f(x)`, where `f` is the function name and `x` is the parameter that goes into the function.\n",
                "\n",
                "To define a function, we use the `def` command in Python. This line defines the function name and parameter(s). Any code in the *body* of the function must be indented and will only be run when the function is called. We will do our calculation in the function body and output the final result using the `return` command.\n",
                "\n",
                "See [Ch. 3.5 Functions](https://cjtu.github.io/spirl/python_functions.html) for more info.\n",
                "\n",
                "Let's define a function below:"
            ],
            "metadata": {}
        },
        {
            "cell_type": "code",
            "execution_count": null,
            "source": [
                "# !! Indentation is very important in python !!\n",
                "\n",
                "def free_fall_h(t):\n",
                "    \n",
                "    g = 9.80665 # m/s\n",
                "    H = 0.5 * g * t**2\n",
                "    \n",
                "    return H"
            ],
            "outputs": [],
            "metadata": {}
        },
        {
            "cell_type": "markdown",
            "source": [
                "A final critical part of Python functions are the *docstrings*. A docstring tells future users of your code (including future you!) what your function does, what parameter(s) it takes and what it returns. Docstrings are denoted with triple quotes `\"\"\"`."
            ],
            "metadata": {}
        },
        {
            "cell_type": "code",
            "execution_count": null,
            "source": [
                "def free_fall_h(t):\n",
                "    \"\"\"Return free fall distance given time t on Earth.\n",
                "\n",
                "    Parameters\n",
                "    ----------\n",
                "    t (float or np.array): Time in [s]\n",
                "\n",
                "    Return\n",
                "    ------\n",
                "    H (float or np.array): Free fall distance in [m]\n",
                "    \"\"\"\n",
                "    \n",
                "    g = 9.80665 # m/s\n",
                "    H = 0.5 * g * t**2\n",
                "    \n",
                "    return H"
            ],
            "outputs": [],
            "metadata": {}
        },
        {
            "cell_type": "code",
            "execution_count": null,
            "source": [
                "# fall_time = np.arange(0, 100, 5)\n",
                "\n",
                "height = free_fall_h(fall_time)\n",
                "height_delta = height[-1] - height[0]\n",
                "\n",
                "print(f'After {height.max():1.0f} sec, we will fall {height_delta:1.2f} m on Earth' )"
            ],
            "outputs": [],
            "metadata": {}
        },
        {
            "cell_type": "markdown",
            "source": [
                "## [hands-on] A Function with 2 Parameters\n",
                "\n",
                "Now that we've made a function with one parameter (`t` or time), let's try modifying `free_fall_h` to make it more general so we can calculate the fallen height on different planets with different `g` values. Hint: you'll now be creating an `f(x,y)` function with the following equation.\n",
                "\n",
                "$$\n",
                "{\\rm free\\_fall\\_h\\_grav}(t, g) = \\frac{1}{2} g t^2\n",
                "$$"
            ],
            "metadata": {}
        },
        {
            "cell_type": "code",
            "execution_count": null,
            "source": [
                "def free_fall_h_grav():\n",
                "    \n",
                "    return "
            ],
            "outputs": [],
            "metadata": {}
        },
        {
            "cell_type": "markdown",
            "source": [
                "Now try using different values of g for different planets (provided below) to test if your free fall height gets larger or smaller with g:\n",
                "\n",
                "|  Planet | g ($m/s^2$) |\n",
                "|:-------:|:--------:|\n",
                "| Mercury |   3.61   |\n",
                "|  Venus  |   8.83   |\n",
                "|   Mars  |   3.75   |\n",
                "| Jupiter |   26.0   |\n",
                "|  Saturn |   11.2   |\n",
                "|  Uranus |   10.5   |\n",
                "| Neptune |   13.3   |\n",
                "|  Pluto  |   0.61   |\n",
                "\n",
                "[source](https://www.physicsclassroom.com/class/circles/Lesson-3/The-Value-of-g)"
            ],
            "metadata": {}
        },
        {
            "cell_type": "code",
            "execution_count": null,
            "source": [
                "g = 9.80665 # m/s  <--- change me\n",
                "height = free_fall_h_grav(fall_time, g)\n",
                "print(f'After {height.max():1.0f} sec, we will fall {height_delta:1.2f} m')"
            ],
            "outputs": [],
            "metadata": {}
        },
        {
            "cell_type": "markdown",
            "source": [
                "## Saving our work with `git commit`\n",
                "\n",
                "1. Open `Source Control` side panel\n",
                "2. Click the `+` sign beside the file name to stage the changes\n",
                "3. Type in commit message, and then click `check box` above to `commit`\n",
                "\n",
                "Great! Now you have a *commit* (Git checkpoint) on your local computer."
            ],
            "metadata": {}
        },
        {
            "cell_type": "markdown",
            "source": [
                "## Free Fall -- plotting with `matplotlib.pyplot`\n",
                "\n",
                "We're now going to plot free fall times from the functions we've created above using matplotlib, which we import like so:"
            ],
            "metadata": {}
        },
        {
            "cell_type": "code",
            "execution_count": 17,
            "source": [
                "import matplotlib.pyplot as plt"
            ],
            "outputs": [],
            "metadata": {}
        },
        {
            "cell_type": "code",
            "execution_count": 16,
            "source": [
                "x = np.arange(0, 100, 5)\n",
                "y = free_fall_h(x)"
            ],
            "outputs": [],
            "metadata": {}
        },
        {
            "cell_type": "code",
            "execution_count": 20,
            "source": [
                "f, ax = plt.subplots(1, 1, figsize=(4, 3), dpi=100, facecolor='white')\n",
                "\n",
                "ax.plot(x, y, '.', ms=3, c='tab:blue')\n",
                "\n",
                "ax.tick_params(axis='both', right=True, top=True, direction='in', labelsize='small')\n",
                "ax.set_title(f'Free fall curve with g = {g:.2f} $m/s^2$')\n",
                "ax.set_ylabel('Distance [km]') \n",
                "ax.set_xlabel('Time [sec]') "
            ],
            "outputs": [
                {
                    "output_type": "execute_result",
                    "data": {
                        "text/plain": [
                            "Text(0.5, 0, 'Time [sec]')"
                        ]
                    },
                    "metadata": {},
                    "execution_count": 20
                },
                {
                    "output_type": "display_data",
                    "data": {
                        "image/png": "[encoded data removed]",
                        "text/plain": [
                            "<Figure size 400x300 with 1 Axes>"
                        ]
                    },
                    "metadata": {}
                }
            ],
            "metadata": {}
        },
        {
            "cell_type": "markdown",
            "source": [
                "### [Assignment] Plot Planck function\n",
                "\n",
                "Using what we learned today and the equation below, define the the Planck function and use it to plot the blackbody curves shown below.\n",
                "\n",
                "> Be careful of the units on both axes.\n",
                "\n",
                "Note that $\\lambda$ is short for wavelength, $T$ is short for temperature and that you may need to google the following constants for your function (pay attention to units!):\n",
                "\n",
                "| Symbol | Meaning |\n",
                "| ------ | ------- |\n",
                "| $\\pi$ | Pi |\n",
                "| $c$ | Speed of light |\n",
                "| $h$ | Planck's constant |\n",
                "| $k$ | Boltzmann constant |\n",
                "\n",
                "(Optional): For an extra challenge, try to replicate the color and formatting of the plot shown below. You can find lots of `matplotlib` customization and plotting examples [here](https://matplotlib.org/stable/gallery/index.html).\n",
                "\n",
                "![Planck Function](images/f21/a1_planck.png)"
            ],
            "metadata": {}
        },
        {
            "cell_type": "code",
            "execution_count": null,
            "source": [
                "def planck(wavelength):\n",
                "    \"\"\"Return blackbody power density using the Planck function.\n",
                "\n",
                "    Parameters\n",
                "    ----------\n",
                "    wavelength (array): Wavelength in [nm]\n",
                "\n",
                "    Return\n",
                "    ------\n",
                "    radiance (array): Power density in [W/m^3]\n",
                "    \"\"\"\n",
                "    # your code here\n",
                "    \n",
                "    return"
            ],
            "outputs": [],
            "metadata": {}
        },
        {
            "cell_type": "code",
            "execution_count": null,
            "source": [
                "# Define your wavelength array and call planck function here\n",
                "\n",
                "\n",
                "\n",
                "# Make your plot here\n"
            ],
            "outputs": [],
            "metadata": {}
        },
        {
            "cell_type": "markdown",
            "source": [
                "(Optional) For more practice or to learn some handy Astropy tips, check out the Assignment 1 (BONUS) on the next page.\n",
                "\n",
                "When you are done with your assignment, make sure to:\n",
                "\n",
                "- Stage your changes with `+`\n",
                "- Commit your changes with a descriptive message with `checkmark`\n",
                "- Push your changes to your fork with `... menu -> push`\n",
                "- Open a Pull Request on the source control tab (make sure to choose the remote branch with your username from the dropdown!)\n",
                "\n",
                "Review the submission guide [here](https://cjtu.github.io/spirl/f21_assignments.html#submitting-assignments-as-pull-requests) or reach out on the #help channel on Slack if you have any questions!"
            ],
            "metadata": {}
        }
    ],
    "metadata": {
        "orig_nbformat": 4,
        "language_info": {
            "name": "python",
            "version": "3.9.7",
            "mimetype": "text/x-python",
            "codemirror_mode": {
                "name": "ipython",
                "version": 3
            },
            "pygments_lexer": "ipython3",
            "nbconvert_exporter": "python",
            "file_extension": ".py"
        },
        "kernelspec": {
            "name": "python3",
            "display_name": "Python 3.9.7 64-bit ('spirl': conda)"
        },
        "interpreter": {
            "hash": "2f80b920db57ddf6729f1c3d73eef5d58e783dc11850fd4dafb78bae7877f3ad"
        }
    },
    "nbformat": 4,
    "nbformat_minor": 2
}