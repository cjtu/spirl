{
    "cells": [
        {
            "cell_type": "markdown",
            "source": [
                "# SPIRL Fall 2021 Course -- Week 1 \n",
                "\n",
                "Today's topic will include:\n",
                "1. Quick Jupyter interface tour\n",
                "2. Difference between a `list` and a `numpy.array` in python\n",
                "3. How to make a function\n",
                "4. Simple plotting with `matplotlib.pyplot`\n",
                "5. Quick and easy polynomial fitting using `numpy.polynomial.Polynomial.fit`\n",
                "\n",
                "**Extra-meterial (link to SPIRL site)**\n",
                "- [python_basic-types](https://cjtu.github.io/spirl/python_basic-types.html)\n",
                "- [numpy](https://cjtu.github.io/spirl/sp_numpy.html)\n",
                "\n",
                "September 21, 2021\\\n",
                "Instructor: Shih-Yun Tang\n"
            ],
            "metadata": {}
        },
        {
            "cell_type": "markdown",
            "source": [
                "## Check if all extension are installed\n",
                "\n",
                "Go to the `Extensions` side bar and check IF\n",
                "* `Python`\n",
                "* `Jupyter`\n",
                "* `GitHub Pull Requests and Issues`\n",
                "* `GitLens -- Git supercharged`\n",
                "\n",
                "are under the INDTALLED tag.\n"
            ],
            "metadata": {}
        },
        {
            "cell_type": "markdown",
            "source": [
                "### Numpy\n",
                "> NumPy is the fundamental package for scientific computing in Python. It is a Python library that provides a multidimensional array object, various derived objects (such as masked arrays and matrices), and an assortment of routines for fast operations on arrays, including mathematical, logical, shape manipulation, sorting, selecting, I/O, discrete Fourier transforms, basic linear algebra, basic statistical operations, random simulation and much more .... \n",
                "\n",
                "Why is NumPy Fast?\n",
                "> Vectorization describes the absence of any explicit looping, indexing, etc., in the code - these things are taking place, of course, just “behind the scenes” in optimized, **pre-compiled C code**. Vectorized code has many advantages, among which are:\n",
                "\n",
                "See more on: [https://numpy.org/doc/stable/](https://numpy.org/doc/stable/)"
            ],
            "metadata": {}
        },
        {
            "cell_type": "markdown",
            "source": [
                "## Free Fall\n",
                "$$\n",
                "H = \\frac{1}{2} g t^2\n",
                "$$"
            ],
            "metadata": {}
        },
        {
            "cell_type": "code",
            "execution_count": null,
            "source": [
                "import numpy as np\n",
                "\n",
                "g_earth   = 9.80665                 # m/s\n",
                "fall_time = np.arange(0, 100, 5)    # sec\n",
                "\n",
                "H = (1/2) * g * fall_time**2\n",
                "\n",
                "print(H)"
            ],
            "outputs": [],
            "metadata": {}
        },
        {
            "cell_type": "code",
            "execution_count": null,
            "source": [
                "H_delta = H[-1] - H[0]\n",
                "\n",
                "print(f'After {fall_time.max():1.0f} sec, we will fall {H_delta:1.2f} m on Earth' )"
            ],
            "outputs": [],
            "metadata": {}
        },
        {
            "cell_type": "markdown",
            "source": [
                "## How to make a function\n",
                "\n",
                "$$\n",
                "{\\rm Free\\_Fall\\_H}(t) = \\frac{1}{2} g t^2\n",
                "$$"
            ],
            "metadata": {}
        },
        {
            "cell_type": "code",
            "execution_count": null,
            "source": [
                "# !! Indentation is very important in python !!\n",
                "\n",
                "def Free_Fall_H(t):\n",
                "    \n",
                "    g = 9.80665 # m/s\n",
                "    H = 0.5 * g * t**2\n",
                "    \n",
                "    return H"
            ],
            "outputs": [],
            "metadata": {}
        },
        {
            "cell_type": "code",
            "execution_count": null,
            "source": [
                "def Free_Fall_H(t):\n",
                "    \"\"\"free fall on Earth\n",
                "\n",
                "    Parameters\n",
                "    ----------\n",
                "    t : float or np.array\n",
                "        time in [sec]\n",
                "\n",
                "    Returns\n",
                "    -------\n",
                "    float or np.array\n",
                "         Fallen height in [m]\n",
                "    \"\"\"\n",
                "    \n",
                "    g = 9.80665 # m/s\n",
                "    H = 0.5 * g * t**2\n",
                "    \n",
                "    return H"
            ],
            "outputs": [],
            "metadata": {}
        },
        {
            "cell_type": "code",
            "execution_count": null,
            "source": [
                "# fall_time = np.arange(0, 100, 5)\n",
                "\n",
                "func_H = Free_Fall_H(fall_time)\n",
                "func_H_delta = func_H[-1] - func_H[0]\n",
                "\n",
                "print(f'After {func_H.max():1.0f} sec, we will fall {func_H_delta:1.2f} m on Earth' )"
            ],
            "outputs": [],
            "metadata": {}
        },
        {
            "cell_type": "markdown",
            "source": [
                "### [hands-on] making `g` as a variable\n",
                "Try to turn `Free_Fall_H` into a more general function that can calculate the fallen height on different planets by passing differn `g` value."
            ],
            "metadata": {}
        },
        {
            "cell_type": "code",
            "execution_count": null,
            "source": [
                "def Free_Fall_H_uni():\n",
                "    \n",
                "    return "
            ],
            "outputs": [],
            "metadata": {}
        },
        {
            "cell_type": "markdown",
            "source": [
                "### Advance -- use of `Astropy.constant` and `units`"
            ],
            "metadata": {}
        },
        {
            "cell_type": "code",
            "execution_count": null,
            "source": [
                "from astropy import constants as const\n",
                "# you can find full list of build-in constant here: https://docs.astropy.org/en/stable/constants/index.html\n",
                "\n",
                "from astropy import units as u"
            ],
            "outputs": [],
            "metadata": {}
        },
        {
            "cell_type": "code",
            "execution_count": null,
            "source": [
                "g = const.g0\n",
                "t = 10 * u.s\n",
                "\n",
                "H = (1/2) * g * t**2\n",
                "print(f'On Earth, after {t} sec, we will fall donw {H:1.2f}')"
            ],
            "outputs": [],
            "metadata": {}
        },
        {
            "cell_type": "code",
            "execution_count": null,
            "source": [
                "t = 10 * u.hour"
            ],
            "outputs": [],
            "metadata": {}
        },
        {
            "cell_type": "code",
            "execution_count": null,
            "source": [
                "t = t.cgs\n",
                "print(f'On Earth, after {t}, we will fall donw {H:1.2f}')"
            ],
            "outputs": [],
            "metadata": {}
        },
        {
            "cell_type": "code",
            "execution_count": null,
            "source": [
                "def free_fall(t):\n",
                "    g = const.g0.cgs\n",
                "    t = t.cgs\n",
                "    \n",
                "    H = 0.5 * g * t**2\n",
                "    return H"
            ],
            "outputs": [],
            "metadata": {}
        },
        {
            "cell_type": "code",
            "execution_count": null,
            "source": [
                "t = 10 * u.hour\n",
                "free_fall(t).to(u.pc)"
            ],
            "outputs": [],
            "metadata": {}
        },
        {
            "cell_type": "markdown",
            "source": [
                "### [hands-on] Quick test, try to prove g is about 9.8 with\n",
                "$$\n",
                "F = ma = \\frac{GMm}{r^2}\n",
                "\\Longrightarrow a = \\frac{GM}{r^2}\n",
                "$$"
            ],
            "metadata": {}
        },
        {
            "cell_type": "code",
            "execution_count": null,
            "source": [
                "# try it here"
            ],
            "outputs": [],
            "metadata": {}
        },
        {
            "cell_type": "markdown",
            "source": [
                "## Now it's time to try saving using `git` `comment`\n",
                "\n",
                "1. Open `Source Control` side pandel\n",
                "2. Click the `+` sign to stage the chnages\n",
                "3. Type in commit message, and then click `check box` above to do `commit`\n",
                "\n",
                "Great! now you just saved a **version**(checkpoint) using git on your local side."
            ],
            "metadata": {}
        },
        {
            "cell_type": "markdown",
            "source": [
                "## Free Fall -- plotting with `matplotlib.pyplot`\n"
            ],
            "metadata": {}
        },
        {
            "cell_type": "code",
            "execution_count": null,
            "source": [
                "import matplotlib.pyplot as plt"
            ],
            "outputs": [],
            "metadata": {}
        },
        {
            "cell_type": "code",
            "execution_count": null,
            "source": [
                "x = time_steps\n",
                "y = free_fall(time_steps).to(u.km)"
            ],
            "outputs": [],
            "metadata": {}
        },
        {
            "cell_type": "code",
            "execution_count": null,
            "source": [
                "f, ax = plt.subplots(1, 1, figsize=(4, 3), dpi=100, facecolor='white')\n",
                "\n",
                "ax.plot(x, y, fmt='.', ms=3, c='tab:blue')\n",
                "\n",
                "ax.tick_params(axis='both', right=True, top=True, direction='in', labelsize='small')\n",
                "ax.set_title(fr'Free fall curve with g = {g} m/s^2')\n",
                "ax.set_ylabel('Distance [km]') \n",
                "ax.set_xlabel('Time [sec]') "
            ],
            "outputs": [],
            "metadata": {}
        },
        {
            "cell_type": "markdown",
            "source": [
                "### [Assignment] Plot Planck funciton, the BlackBody curve\n",
                "Try to use what we learn today to plot the the same BB curves shown below.\n",
                "> Becareful to the units on both axis.\n",
                "\n",
                "For a beginner, you can ignore the plotting format and style. Just focus on making the BB curves look correct. \\\n",
                "As for people want more challenge, try to replicate the plot shown below.\n",
                "\n",
                "you can find lots of `matplotlib` plotting examples [here](https://matplotlib.org/stable/gallery/index.html)\n",
                "\n",
                "![Planck Function](BBf.png)"
            ],
            "metadata": {}
        },
        {
            "cell_type": "code",
            "execution_count": 1,
            "source": [
                "def S(wave):\n",
                "    \"\"\"generate planck function\n",
                "\n",
                "    Parameters\n",
                "    ----------\n",
                "    wave : array\n",
                "        input wavelength range\n",
                "\n",
                "    Returns\n",
                "    -------\n",
                "    array\n",
                "        blackbody flux in W/m3\n",
                "    \"\"\"\n",
                "    \n",
                "    # put your code here\n",
                "    \n",
                "    return flux"
            ],
            "outputs": [],
            "metadata": {}
        },
        {
            "cell_type": "code",
            "execution_count": null,
            "source": [
                "fig, ax = plt.subplots(1, 1, figsize=(5,3.), facecolor='white', dpi=150)\n",
                "\n",
                "ax.set_ylabel(r'Power Density (10$^{13}$ Watts/m$^3$)', \n",
                "              size='small', style='normal', family='sans-serif')\n",
                "ax.set_xlabel(r'Wavelength [$\\rm \\mu$m]', \n",
                "              size='small', style='normal', family='sans-serif')\n",
                "\n",
                "ax.tick_params(axis='both', which='both', labelsize='small', \n",
                "               right=True, top=True, direction='in')\n",
                "\n",
                "ax.set_xlim(100, 3000)\n",
                "ax.set_ylim(0, 10)\n",
                "\n",
                "#--- your term ---\n",
                "#ax.plot(...)\n"
            ],
            "outputs": [],
            "metadata": {}
        }
    ],
    "metadata": {
        "orig_nbformat": 4,
        "language_info": {
            "name": "python",
            "version": "3.7.8",
            "mimetype": "text/x-python",
            "codemirror_mode": {
                "name": "ipython",
                "version": 3
            },
            "pygments_lexer": "ipython3",
            "nbconvert_exporter": "python",
            "file_extension": ".py"
        },
        "kernelspec": {
            "name": "python3",
            "display_name": "Python 3.7.8 64-bit ('base': conda)"
        },
        "interpreter": {
            "hash": "cb7cd84ea3cdf3ac0fe189395fa0b358ecca3de13b72fe17f3c14c2a97e9bf55"
        }
    },
    "nbformat": 4,
    "nbformat_minor": 2
}