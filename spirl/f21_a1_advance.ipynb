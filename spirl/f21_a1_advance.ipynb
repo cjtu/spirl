{
    "cells": [
        {
            "cell_type": "markdown",
            "source": [
                "# SPIRL Fall 2021 Course -- Week 1 \n",
                "\n",
                "Today's topic will include:\n",
                "1. Quick Jupyter interface tour\n",
                "2. Difference between a `list` and a `numpy.array` in python\n",
                "3. How to make a function\n",
                "4. Simple plotting with `matplotlib.pyplot`\n",
                "<!-- 5. Quick and easy polynomial fitting using `numpy.polynomial.Polynomial.fit` -->\n",
                "\n",
                "**Extra-meterial (link to SPIRL site)**\n",
                "- [python_basic-types](https://cjtu.github.io/spirl/python_basic-types.html)\n",
                "- [numpy](https://cjtu.github.io/spirl/sp_numpy.html)\n",
                "\n",
                "September 21, 2021\\\n",
                "Instructor: Shih-Yun Tang\n"
            ],
            "metadata": {}
        },
        {
            "cell_type": "markdown",
            "source": [
                "## Check if all extension are installed\n",
                "\n",
                "Go to the `Extensions` side bar and check IF\n",
                "* `Python`\n",
                "* `Jupyter`\n",
                "* `GitHub Pull Requests and Issues`\n",
                "* `GitLens -- Git supercharged`\n",
                "\n",
                "are under the INDTALLED tag.\n"
            ],
            "metadata": {}
        },
        {
            "cell_type": "markdown",
            "source": [
                "## Free Fall\n",
                "$$\n",
                "H = \\frac{1}{2} g t^2\n",
                "$$\n",
                "\n",
                "We can write the above equation simply in line by line as we do in the calculator. We'll first define the variables in the equation and then type the equation below. We write the variables first because python reads line by line. If we put the equation first, python would get mad because it wouldn't know what g and t were in the equation. So here's how we do this...\n",
                "\n",
                "See more relative material on [3.3. Basic Data Types](https://cjtu.github.io/spirl/python_basic-types.html#)"
            ],
            "metadata": {}
        },
        {
            "cell_type": "code",
            "execution_count": null,
            "source": [
                "g_earth   = 9.80665     # m/s\n",
                "fall_time = 10          # sec\n",
                "\n",
                "H = (1/2) * g_earth * fall_time**2\n",
                "\n",
                "# print(H)\n",
                "print('We will fall about {:1.2f} m on Earth after {:} sec'.format(H, fall_time))"
            ],
            "outputs": [],
            "metadata": {}
        },
        {
            "cell_type": "markdown",
            "source": [
                "## Difference between a `list` and a `numpy.array` in python\n",
                "\n",
                "What if we want to compute the falling height for a sequency of times?"
            ],
            "metadata": {}
        },
        {
            "cell_type": "code",
            "execution_count": null,
            "source": [
                "fall_time = [1, 2, 3, 4, 5, 6] # sec\n",
                "\n",
                "\n",
                "H = (1/2) * g_earth * fall_time**2\n",
                "print(H)"
            ],
            "outputs": [],
            "metadata": {}
        },
        {
            "cell_type": "markdown",
            "source": [
                "### Numpy\n",
                "\n",
                "What's NumPy: \n",
                "> NumPy is the fundamental package for scientific computing in Python. It is a Python library that provides a multidimensional array object, various derived objects (such as masked arrays and matrices), and an assortment of routines for fast operations on arrays, including mathematical, logical, shape manipulation, sorting, selecting, I/O, discrete Fourier transforms, basic linear algebra, basic statistical operations, random simulation and much more .... \n",
                "\n",
                "Why is NumPy Fast?\n",
                "> Vectorization describes the absence of any explicit looping, indexing, etc., in the code - these things are taking place, of course, just “behind the scenes” in optimized, **pre-compiled C code**. Vectorized code has many advantages, among which are:\n",
                "\n",
                "* See more on NumPy official site: [https://numpy.org/doc/stable/](https://numpy.org/doc/stable/)\n",
                "* See more on SPIRL: [numpy](https://cjtu.github.io/spirl/sp_numpy.html)"
            ],
            "metadata": {}
        },
        {
            "cell_type": "code",
            "execution_count": null,
            "source": [
                "import numpy as np"
            ],
            "outputs": [],
            "metadata": {}
        },
        {
            "cell_type": "code",
            "execution_count": null,
            "source": [
                "python_list = [1, 2, 3, 4, 5, 6]\n",
                "\n",
                "# transfering a python list into a np.array\n",
                "numpy_array = np.array( python_list )"
            ],
            "outputs": [],
            "metadata": {}
        },
        {
            "cell_type": "code",
            "execution_count": null,
            "source": [
                "# check the variable type...\n",
                "\n",
                "type(python_list), type(numpy_array)"
            ],
            "outputs": [],
            "metadata": {}
        },
        {
            "cell_type": "markdown",
            "source": [
                "### List/Array/String Indexing\n",
                "\n",
                "See more on SPIRL [3.3.7. Str indexing](https://cjtu.github.io/spirl/python_basic-types.html#str-indexing)\n",
                "\n",
                "| Forward indexing  |   | 0   | 1   | 2   | 3   | 4  |   |\n",
                "|-------------------|---|-----|-----|-----|-----|----|---|\n",
                "| Array             | [ | 11,  | 22,  | 33,  | 44,  | 55  | ] |\n",
                "| Backward indexing |   | -5  | -4  | -3  | -2  | -1 |   |\n"
            ],
            "metadata": {}
        },
        {
            "cell_type": "code",
            "execution_count": null,
            "source": [
                "test_list  = [11, 22, 33, 44, 55]\n",
                "test_array = np.array( test_list )\n",
                "\n",
                "test_list, test_array"
            ],
            "outputs": [],
            "metadata": {}
        },
        {
            "cell_type": "code",
            "execution_count": null,
            "source": [
                "print(test_list[0], test_array[0])"
            ],
            "outputs": [],
            "metadata": {}
        },
        {
            "cell_type": "code",
            "execution_count": null,
            "source": [
                "## What if you only want [22,33,44] ??"
            ],
            "outputs": [],
            "metadata": {}
        },
        {
            "cell_type": "markdown",
            "source": [
                "### Array generation with NumPy\n",
                "\n",
                "```python\n",
                "np.zeros()\n",
                "np.ones()\n",
                "np.arange()\n",
                "np.linspace()\n",
                "np.logspace()\n",
                "```\n",
                "and more...\n",
                "\n",
                "Try it yourself, or google it if you want to know more!\n",
                "\n",
                "**(Demo do a search on np.arange)**"
            ],
            "metadata": {}
        },
        {
            "cell_type": "code",
            "execution_count": null,
            "source": [
                "g_earth   = 9.80665                 # m/s\n",
                "fall_time = np.arange(0, 100, 5)    # sec\n",
                "\n",
                "H = (1/2) * g_earth * fall_time**2\n",
                "\n",
                "print(H)"
            ],
            "outputs": [],
            "metadata": {}
        },
        {
            "cell_type": "code",
            "execution_count": null,
            "source": [
                "H_delta = H[-1] - H[0]\n",
                "\n",
                "print(f'After {fall_time.max():1.0f} sec, we will fall {H_delta:1.2f} m on Earth' )"
            ],
            "outputs": [],
            "metadata": {}
        },
        {
            "cell_type": "markdown",
            "source": [
                "## How to make a function\n",
                "\n",
                "$$\n",
                "{\\rm Free\\_Fall\\_H}(t) = \\frac{1}{2} g t^2\n",
                "$$\n",
                "\n",
                "Another way of computing this equation is using a definition `function`. A function is set up like `f(x)`. `f` is the function name and `x` is the variable that goes into the function that the function solves for. We'll first simply write `f(x)` as the first line of code. Then, underneath this line (with an **indent**!) we can do our calculation and output the variable of the final result using `return`. This process is shown below..."
            ],
            "metadata": {}
        },
        {
            "cell_type": "code",
            "execution_count": null,
            "source": [
                "# !! Indentation is very important in python !!\n",
                "\n",
                "def Free_Fall_H(t):\n",
                "    \n",
                "    g = 9.80665 # m/s\n",
                "    H = 0.5 * g * t**2\n",
                "    \n",
                "    return H"
            ],
            "outputs": [],
            "metadata": {}
        },
        {
            "cell_type": "code",
            "execution_count": null,
            "source": [
                "def Free_Fall_H(t):\n",
                "    \"\"\"free fall on Earth\n",
                "\n",
                "    Parameters\n",
                "    ----------\n",
                "    t : float or np.array\n",
                "        time in [sec]\n",
                "\n",
                "    Returns\n",
                "    -------\n",
                "    float or np.array\n",
                "         Fallen height in [m]\n",
                "    \"\"\"\n",
                "    \n",
                "    g = 9.80665 # m/s\n",
                "    H = 0.5 * g * t**2\n",
                "    \n",
                "    return H"
            ],
            "outputs": [],
            "metadata": {}
        },
        {
            "cell_type": "code",
            "execution_count": null,
            "source": [
                "# fall_time = np.arange(0, 100, 5)\n",
                "\n",
                "func_H = Free_Fall_H(fall_time)\n",
                "func_H_delta = func_H[-1] - func_H[0]\n",
                "\n",
                "print(f'After {func_H.max():1.0f} sec, we will fall {func_H_delta:1.2f} m on Earth' )"
            ],
            "outputs": [],
            "metadata": {}
        },
        {
            "cell_type": "markdown",
            "source": [
                "### [hands-on] making `g` as a variable\n",
                "\n",
                "Now that we've solved for one variable (time or fall_time), let's try turning `Free_Fall_H` into a more general function that can calculate the fallen height on different planets with different `g` values. Hint: you'll now be creating an `f(x,y)` function.\n",
                "\n",
                "$$\n",
                "{\\rm Free\\_Fall\\_H\\_uni}(t, g) = \\frac{1}{2} g t^2\n",
                "$$\n",
                "\n",
                "|  Planet | g (m/s2) |\n",
                "|:-------:|:--------:|\n",
                "| Mercury |   3.61   |\n",
                "|  Venus  |   8.83   |\n",
                "|   Mars  |   3.75   |\n",
                "| Jupiter |   26.0   |\n",
                "|  Saturn |   11.2   |\n",
                "|  Uranus |   10.5   |\n",
                "| Neptune |   13.3   |\n",
                "|  Pluto  |   0.61   |\n",
                "\n",
                "[source](https://www.physicsclassroom.com/class/circles/Lesson-3/The-Value-of-g)"
            ],
            "metadata": {}
        },
        {
            "cell_type": "code",
            "execution_count": null,
            "source": [
                "def Free_Fall_H_uni():\n",
                "    \n",
                "    return "
            ],
            "outputs": [],
            "metadata": {}
        },
        {
            "cell_type": "markdown",
            "source": [
                "### Advance -- use of `Astropy.constant` and `units`\n",
                "\n",
                "Grabe any constant from the `Astropy.constant` and do unit transformation using `units`."
            ],
            "metadata": {}
        },
        {
            "cell_type": "code",
            "execution_count": null,
            "source": [
                "from astropy import constants as const\n",
                "# you can find full list of build-in constant here: https://docs.astropy.org/en/stable/constants/index.html\n",
                "\n",
                "from astropy import units as u"
            ],
            "outputs": [],
            "metadata": {}
        },
        {
            "cell_type": "code",
            "execution_count": null,
            "source": [
                "g = const.g0\n",
                "t = 10 * u.s\n",
                "\n",
                "H = (1/2) * g * t**2\n",
                "print(f'On Earth, after {t} sec, we will fall donw {H:1.2f}')"
            ],
            "outputs": [],
            "metadata": {}
        },
        {
            "cell_type": "code",
            "execution_count": null,
            "source": [
                "t = 10 * u.hour"
            ],
            "outputs": [],
            "metadata": {}
        },
        {
            "cell_type": "code",
            "execution_count": null,
            "source": [
                "t = t.cgs\n",
                "print(f'On Earth, after {t}, we will fall donw {H:1.2f}')"
            ],
            "outputs": [],
            "metadata": {}
        },
        {
            "cell_type": "code",
            "execution_count": null,
            "source": [
                "def free_fall(t):\n",
                "    g = const.g0.cgs\n",
                "    t = t.cgs\n",
                "    \n",
                "    H = 0.5 * g * t**2\n",
                "    return H"
            ],
            "outputs": [],
            "metadata": {}
        },
        {
            "cell_type": "code",
            "execution_count": null,
            "source": [
                "t = 10 * u.hour\n",
                "free_fall(t).to(u.pc)"
            ],
            "outputs": [],
            "metadata": {}
        },
        {
            "cell_type": "markdown",
            "source": [
                "### [hands-on] Now that we've shown you an example of using Astropy, try to prove g is about 9.8 with Astropy using the following equation:\n",
                "$$\n",
                "F = ma = \\frac{GMm}{r^2}\n",
                "\\Longrightarrow a = \\frac{GM}{r^2}\n",
                "$$"
            ],
            "metadata": {}
        },
        {
            "cell_type": "code",
            "execution_count": null,
            "source": [
                "# try it here"
            ],
            "outputs": [],
            "metadata": {}
        },
        {
            "cell_type": "markdown",
            "source": [
                "## Now it's time to try saving using `git` `comment`\n",
                "\n",
                "1. Open `Source Control` side pandel\n",
                "2. Click the `+` sign to stage the chnages\n",
                "3. Type in commit message, and then click `check box` above to do `commit`\n",
                "\n",
                "Great! now you just saved a **version**(checkpoint) using git on your local side."
            ],
            "metadata": {}
        },
        {
            "cell_type": "markdown",
            "source": [
                "## Free Fall -- plotting with `matplotlib.pyplot`\n",
                "\n",
                "We're now going to plot free fall times from the functions we've created above using matplotlib."
            ],
            "metadata": {}
        },
        {
            "cell_type": "code",
            "execution_count": null,
            "source": [
                "import matplotlib.pyplot as plt"
            ],
            "outputs": [],
            "metadata": {}
        },
        {
            "cell_type": "code",
            "execution_count": null,
            "source": [
                "x = np.arange(0, 100, 5)\n",
                "y = Free_Fall_H(x)"
            ],
            "outputs": [],
            "metadata": {}
        },
        {
            "cell_type": "code",
            "execution_count": null,
            "source": [
                "f, ax = plt.subplots(1, 1, figsize=(4, 3), dpi=100, facecolor='white')\n",
                "\n",
                "ax.plot(x, y, fmt='.', ms=3, c='tab:blue')\n",
                "\n",
                "ax.tick_params(axis='both', right=True, top=True, direction='in', labelsize='small')\n",
                "ax.set_title(fr'Free fall curve with g = {g} m/s^2')\n",
                "ax.set_ylabel('Distance [km]') \n",
                "ax.set_xlabel('Time [sec]') "
            ],
            "outputs": [],
            "metadata": {}
        },
        {
            "cell_type": "markdown",
            "source": [
                "### [Assignment] Plot Planck funciton, the BlackBody curve\n",
                "Try to use what we learn today to plot the the same BB curves shown below.\n",
                "> Becareful to the units on both axis.\n",
                "\n",
                "For a beginner, you can ignore the plotting format and style. Just focus on making the BB curves look correct. \\\n",
                "As for people want more challenge, try to replicate the plot shown below.\n",
                "\n",
                "you can find lots of `matplotlib` plotting examples [here](https://matplotlib.org/stable/gallery/index.html)\n",
                "\n",
                "![Planck Function](BBf.png)"
            ],
            "metadata": {}
        },
        {
            "cell_type": "code",
            "execution_count": null,
            "source": [
                "def S(wave):\n",
                "    \"\"\"generate planck function\n",
                "\n",
                "    Parameters\n",
                "    ----------\n",
                "    wave : array\n",
                "        input wavelength range\n",
                "\n",
                "    Returns\n",
                "    -------\n",
                "    array\n",
                "        blackbody flux in W/m3\n",
                "    \"\"\"\n",
                "    \n",
                "    # put your code here\n",
                "    \n",
                "    return flux"
            ],
            "outputs": [],
            "metadata": {}
        },
        {
            "cell_type": "code",
            "execution_count": null,
            "source": [
                "# make your plot here\n"
            ],
            "outputs": [],
            "metadata": {}
        }
    ],
    "metadata": {
        "orig_nbformat": 4,
        "language_info": {
            "name": "python",
            "version": "3.7.8",
            "mimetype": "text/x-python",
            "codemirror_mode": {
                "name": "ipython",
                "version": 3
            },
            "pygments_lexer": "ipython3",
            "nbconvert_exporter": "python",
            "file_extension": ".py"
        },
        "kernelspec": {
            "name": "python3",
            "display_name": "Python 3.7.8 64-bit ('base': conda)"
        },
        "interpreter": {
            "hash": "cb7cd84ea3cdf3ac0fe189395fa0b358ecca3de13b72fe17f3c14c2a97e9bf55"
        }
    },
    "nbformat": 4,
    "nbformat_minor": 2
}