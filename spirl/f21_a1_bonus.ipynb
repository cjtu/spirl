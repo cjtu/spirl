{
    "cells": [
        {
            "cell_type": "markdown",
            "source": [
                "# Assignment 1 (BONUS)\n",
                "\n",
                "This page has a bonus exercise for assignment 1. Please complete it if you found assignment 1 to be easy or mostly review or if you want to extra challenge!\n",
                "\n",
                "## Advanced: Using Astropy\n",
                "\n",
                "Astropy is an astronomy Python package (read more [here](https://www.astropy.org/)) which provides many useful tools. Two tools that are particularly useful for assignment 1 are `astropy.constant` and `astropy.units`.\n",
                "\n",
                "The `astropy.constant` module has many scientific constants available so we don't need to Google them and copy / paste them into our code each time. See all built-in constants [here](https://docs.astropy.org/en/stable/constants/index.html).\n",
                "\n",
                "The `astropy.units` module allows us to do unit transformations so we never have to have headaches converting seconds to kilo-years ever again!.\n"
            ],
            "metadata": {}
        },
        {
            "cell_type": "code",
            "execution_count": null,
            "source": [
                "# Import both modules\n",
                "from astropy import constants as const\n",
                "from astropy import units as u\n",
                "import numpy as np\n"
            ],
            "outputs": [],
            "metadata": {}
        },
        {
            "cell_type": "markdown",
            "source": [
                "Here we use the constants `g0` for gravitational acceleration on Earth and the unit `u.s` to give our time `t` units of seconds."
            ],
            "metadata": {}
        },
        {
            "cell_type": "code",
            "execution_count": null,
            "source": [
                "g = const.g0\n",
                "t = 10 * u.s\n",
                "\n",
                "H = (1/2) * g * t**2\n",
                "print(f'On Earth, after {t} sec, we will fall down {H:1.2f}')"
            ],
            "outputs": [],
            "metadata": {}
        },
        {
            "cell_type": "markdown",
            "source": [
                "If instead we want to specify time in hours, no problem!"
            ],
            "metadata": {}
        },
        {
            "cell_type": "code",
            "execution_count": null,
            "source": [
                "t = 10 * u.hour"
            ],
            "outputs": [],
            "metadata": {}
        },
        {
            "cell_type": "markdown",
            "source": [
                "Now we just make sure to convert to seconds using `.cgs` to turn any units into *Centimeter-Gram-Second (CGS)* units."
            ],
            "metadata": {}
        },
        {
            "cell_type": "code",
            "execution_count": null,
            "source": [
                "t = t.cgs\n",
                "print(f'On Earth, after {t}, we will fall donw {H:1.2f}')"
            ],
            "outputs": [],
            "metadata": {}
        },
        {
            "cell_type": "markdown",
            "source": [
                "If we make sure to call `.cgs` in our function, we can be sure that no matter what units were on the number we passed in, we will be multiplying `g` and `t` in CGS units."
            ],
            "metadata": {}
        },
        {
            "cell_type": "code",
            "execution_count": null,
            "source": [
                "def free_fall(t):\n",
                "    g = const.g0.cgs\n",
                "    t = t.cgs\n",
                "    \n",
                "    H = 0.5 * g * t**2\n",
                "    return H"
            ],
            "outputs": [],
            "metadata": {}
        },
        {
            "cell_type": "markdown",
            "source": [
                "Finally, we can use the `.to()` method to do a unit conversion to another unit that astropy recognizes."
            ],
            "metadata": {}
        },
        {
            "cell_type": "code",
            "execution_count": null,
            "source": [
                "t = 10 * u.hour\n",
                "free_fall(t).to(u.pc)"
            ],
            "outputs": [],
            "metadata": {}
        },
        {
            "cell_type": "markdown",
            "source": [
                "### [hands-on] Prove g is 9.8 on Earth\n",
                "\n",
                "Now that we've shown you an example of using Astropy, try to prove g is about 9.8 on Earth with Astropy using the following equation:\n",
                "\n",
                "$$\n",
                "F = ma = \\frac{GMm}{r^2}\n",
                "\\Longrightarrow a = \\frac{GM}{r^2}\n",
                "$$\n",
                "\n",
                "Don't forget to look up constants available in `astropy.constants` and convert to consistent units before doing any computations!"
            ],
            "metadata": {}
        },
        {
            "cell_type": "code",
            "execution_count": null,
            "source": [
                "# try it here"
            ],
            "outputs": [],
            "metadata": {}
        },
        {
            "cell_type": "markdown",
            "source": [
                "(Optional) Commit and push this file with your assignment 1 submission to receive feedback! You could also update your assignment 1 solutions to use `astropy.constants` and `astropy.units` for more practice!\n",
                "\n",
                "See you next week!"
            ],
            "metadata": {}
        }
    ],
    "metadata": {
        "orig_nbformat": 4,
        "language_info": {
            "name": "python",
            "version": "3.7.8",
            "mimetype": "text/x-python",
            "codemirror_mode": {
                "name": "ipython",
                "version": 3
            },
            "pygments_lexer": "ipython3",
            "nbconvert_exporter": "python",
            "file_extension": ".py"
        },
        "kernelspec": {
            "name": "python3",
            "display_name": "Python 3.7.8 64-bit ('base': conda)"
        },
        "interpreter": {
            "hash": "cb7cd84ea3cdf3ac0fe189395fa0b358ecca3de13b72fe17f3c14c2a97e9bf55"
        }
    },
    "nbformat": 4,
    "nbformat_minor": 2
}