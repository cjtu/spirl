{
 "metadata": {
  "language_info": {
   "codemirror_mode": {
    "name": "ipython",
    "version": 3
   },
   "file_extension": ".py",
   "mimetype": "text/x-python",
   "name": "python",
   "nbconvert_exporter": "python",
   "pygments_lexer": "ipython3",
   "version": "3.7.1-final"
  },
  "orig_nbformat": 2,
  "kernelspec": {
   "name": "python_defaultSpec_1598751104140",
   "display_name": "Python 3.7.1 64-bit ('cjtai': virtualenv)"
  }
 },
 "nbformat": 4,
 "nbformat_minor": 2,
 "cells": [
  {
   "cell_type": "markdown",
   "metadata": {},
   "source": [
    "# Advanced Data Types (set, dict)\n",
    "\n",
    "In this section, we will explore some more advanced data structures that Python provides.\n",
    "\n",
    "The **set** is a unique collection of items which work much like mathematical sets.\n",
    "\n",
    "The **dictionary** is a key-value store of data, which is one of the most efficient and flexible data structures in Python.\n",
    "\n",
    "We will start this section off with the `set`!\n"
   ]
  },
  {
   "cell_type": "markdown",
   "metadata": {},
   "source": [
    "## Set\n",
    "\n",
    "The `set` is a data type in Python which stores only unique elements in no particular order. In this way, the set works much like a *mathematical set*, and even has methods that perform set operations. \n",
    "\n",
    "## Defining a set\n",
    "\n",
    "Sets in Python are defined with curly braces `{}` in Python. "
   ]
  },
  {
   "cell_type": "code",
   "execution_count": 1,
   "metadata": {},
   "outputs": [
    {
     "output_type": "execute_result",
     "data": {
      "text/plain": "set"
     },
     "metadata": {},
     "execution_count": 1
    }
   ],
   "source": [
    "pets = {'dog', 'cat', 'hamster', 'fish', 'snake'}\n",
    "type(pets)"
   ]
  },
  {
   "cell_type": "markdown",
   "metadata": {},
   "source": [
    "The `set` is not concerned with duplicate items, in fact it doesn't matter how many copies of an item you pass to a set, that item will only be included once!"
   ]
  },
  {
   "cell_type": "code",
   "execution_count": 3,
   "metadata": {
    "tags": []
   },
   "outputs": [
    {
     "output_type": "stream",
     "name": "stdout",
     "text": "{'dog', 'cat'}\n"
    }
   ],
   "source": [
    "my_favorite_animals = {'dog', 'dog', 'dog', 'dog', 'cat'}\n",
    "print(my_favorite_animals)"
   ]
  },
  {
   "cell_type": "markdown",
   "metadata": {},
   "source": [
    "Sets also **not ordered** meaning they do not always print in the same order that items were added. Two sets are equal as long as they contain the same objects, regardless of the order they were added."
   ]
  },
  {
   "cell_type": "code",
   "execution_count": 5,
   "metadata": {
    "tags": []
   },
   "outputs": [
    {
     "output_type": "execute_result",
     "data": {
      "text/plain": "True"
     },
     "metadata": {},
     "execution_count": 5
    }
   ],
   "source": [
    "a = {0, 1, 2}\n",
    "b = {2, 0, 1}\n",
    "a == b"
   ]
  },
  {
   "cell_type": "markdown",
   "metadata": {},
   "source": [
    "**When would I use a set over a list?**\n",
    "\n",
    "You may want to quickly see how many unique items you have. For example, say our shopping cart is poorly organized and we want to see if we got all the different items on our grocery list."
   ]
  },
  {
   "cell_type": "code",
   "execution_count": 6,
   "metadata": {
    "tags": []
   },
   "outputs": [
    {
     "output_type": "stream",
     "name": "stdout",
     "text": "{'rice', 'apple', 'tofu', 'orange', 'grapes', 'pear', 'milk', 'pasta'}\nWe bought 8 different items\n"
    }
   ],
   "source": [
    "cart = {'apple', 'pear', 'tofu', 'milk', 'apple', 'apple', 'orange', 'rice', \n",
    "        'pasta', 'pear', 'milk', 'pear', 'grapes', 'orange', 'apple'}\n",
    "print(cart)\n",
    "print(\"We bought {} different items\".format(len(cart)))"
   ]
  },
  {
   "cell_type": "markdown",
   "metadata": {},
   "source": [
    "```{note}\n",
    "Sets can only contain **immutable** objects like the `int`, `float`, `str`, and `tuple`. The types are called \"hashable\" in Python. If you try to pass a **mutable** object like a `list`, you will get the following `TypeError`:\n",
    "```"
   ]
  },
  {
   "cell_type": "code",
   "execution_count": 7,
   "metadata": {},
   "outputs": [
    {
     "output_type": "error",
     "ename": "TypeError",
     "evalue": "unhashable type: 'list'",
     "traceback": [
      "\u001b[1;31m---------------------------------------------------------------------------\u001b[0m",
      "\u001b[1;31mTypeError\u001b[0m                                 Traceback (most recent call last)",
      "\u001b[1;32m<ipython-input-7-5b870d5125a8>\u001b[0m in \u001b[0;36m<module>\u001b[1;34m\u001b[0m\n\u001b[1;32m----> 1\u001b[1;33m \u001b[0mset_of_list\u001b[0m \u001b[1;33m=\u001b[0m \u001b[1;33m{\u001b[0m\u001b[1;33m[\u001b[0m\u001b[1;36m1\u001b[0m\u001b[1;33m,\u001b[0m \u001b[1;36m2\u001b[0m\u001b[1;33m,\u001b[0m \u001b[1;36m3\u001b[0m\u001b[1;33m]\u001b[0m\u001b[1;33m}\u001b[0m\u001b[1;33m\u001b[0m\u001b[1;33m\u001b[0m\u001b[0m\n\u001b[0m",
      "\u001b[1;31mTypeError\u001b[0m: unhashable type: 'list'"
     ]
    }
   ],
   "source": [
    "set_of_list = {[1, 2, 3]}"
   ]
  },
  {
   "cell_type": "markdown",
   "metadata": {},
   "source": [
    "**Convert to set**\n",
    "\n",
    "To quickly see the unique elements of a list or tuple, we can convert it to a set with the built-in `set()` function. The following example will show how useful this can be."
   ]
  },
  {
   "cell_type": "code",
   "execution_count": 9,
   "metadata": {
    "tags": []
   },
   "outputs": [
    {
     "output_type": "stream",
     "name": "stdout",
     "text": "{0, 2, 3}\n"
    }
   ],
   "source": [
    "my_list = [3, 2, 0, 3, 3, 3, 0]\n",
    "my_set = set(my_list)\n",
    "print(my_set)"
   ]
  },
  {
   "cell_type": "markdown",
   "metadata": {},
   "source": [
    "## Set methods\n",
    "\n",
    "\n",
    "In the help info for `set`, we might notice that we can use mathematical set operations like `union()` and `difference()`."
   ]
  },
  {
   "cell_type": "code",
   "execution_count": 10,
   "metadata": {
    "tags": []
   },
   "outputs": [
    {
     "output_type": "stream",
     "name": "stdout",
     "text": "Help on class set in module builtins:\n\nclass set(object)\n |  set() -> new empty set object\n |  set(iterable) -> new set object\n |  \n |  Build an unordered collection of unique elements.\n |  \n |  Methods defined here:\n |  \n |  __and__(self, value, /)\n |      Return self&value.\n |  \n |  __contains__(...)\n |      x.__contains__(y) <==> y in x.\n |  \n |  __eq__(self, value, /)\n |      Return self==value.\n |  \n |  __ge__(self, value, /)\n |      Return self>=value.\n |  \n |  __getattribute__(self, name, /)\n |      Return getattr(self, name).\n |  \n |  __gt__(self, value, /)\n |      Return self>value.\n |  \n |  __iand__(self, value, /)\n |      Return self&=value.\n |  \n |  __init__(self, /, *args, **kwargs)\n |      Initialize self.  See help(type(self)) for accurate signature.\n |  \n |  __ior__(self, value, /)\n |      Return self|=value.\n |  \n |  __isub__(self, value, /)\n |      Return self-=value.\n |  \n |  __iter__(self, /)\n |      Implement iter(self).\n |  \n |  __ixor__(self, value, /)\n |      Return self^=value.\n |  \n |  __le__(self, value, /)\n |      Return self<=value.\n |  \n |  __len__(self, /)\n |      Return len(self).\n |  \n |  __lt__(self, value, /)\n |      Return self<value.\n |  \n |  __ne__(self, value, /)\n |      Return self!=value.\n |  \n |  __or__(self, value, /)\n |      Return self|value.\n |  \n |  __rand__(self, value, /)\n |      Return value&self.\n |  \n |  __reduce__(...)\n |      Return state information for pickling.\n |  \n |  __repr__(self, /)\n |      Return repr(self).\n |  \n |  __ror__(self, value, /)\n |      Return value|self.\n |  \n |  __rsub__(self, value, /)\n |      Return value-self.\n |  \n |  __rxor__(self, value, /)\n |      Return value^self.\n |  \n |  __sizeof__(...)\n |      S.__sizeof__() -> size of S in memory, in bytes\n |  \n |  __sub__(self, value, /)\n |      Return self-value.\n |  \n |  __xor__(self, value, /)\n |      Return self^value.\n |  \n |  add(...)\n |      Add an element to a set.\n |      \n |      This has no effect if the element is already present.\n |  \n |  clear(...)\n |      Remove all elements from this set.\n |  \n |  copy(...)\n |      Return a shallow copy of a set.\n |  \n |  difference(...)\n |      Return the difference of two or more sets as a new set.\n |      \n |      (i.e. all elements that are in this set but not the others.)\n |  \n |  difference_update(...)\n |      Remove all elements of another set from this set.\n |  \n |  discard(...)\n |      Remove an element from a set if it is a member.\n |      \n |      If the element is not a member, do nothing.\n |  \n |  intersection(...)\n |      Return the intersection of two sets as a new set.\n |      \n |      (i.e. all elements that are in both sets.)\n |  \n |  intersection_update(...)\n |      Update a set with the intersection of itself and another.\n |  \n |  isdisjoint(...)\n |      Return True if two sets have a null intersection.\n |  \n |  issubset(...)\n |      Report whether another set contains this set.\n |  \n |  issuperset(...)\n |      Report whether this set contains another set.\n |  \n |  pop(...)\n |      Remove and return an arbitrary set element.\n |      Raises KeyError if the set is empty.\n |  \n |  remove(...)\n |      Remove an element from a set; it must be a member.\n |      \n |      If the element is not a member, raise a KeyError.\n |  \n |  symmetric_difference(...)\n |      Return the symmetric difference of two sets as a new set.\n |      \n |      (i.e. all elements that are in exactly one of the sets.)\n |  \n |  symmetric_difference_update(...)\n |      Update a set with the symmetric difference of itself and another.\n |  \n |  union(...)\n |      Return the union of sets as a new set.\n |      \n |      (i.e. all elements that are in either set.)\n |  \n |  update(...)\n |      Update a set with the union of itself and others.\n |  \n |  ----------------------------------------------------------------------\n |  Static methods defined here:\n |  \n |  __new__(*args, **kwargs) from builtins.type\n |      Create and return a new object.  See help(type) for accurate signature.\n |  \n |  ----------------------------------------------------------------------\n |  Data and other attributes defined here:\n |  \n |  __hash__ = None\n\n"
    }
   ],
   "source": [
    "help(set)"
   ]
  },
  {
   "cell_type": "markdown",
   "metadata": {},
   "source": [
    "Going back to our shopping list example, say you list and cart look like:"
   ]
  },
  {
   "cell_type": "code",
   "execution_count": 16,
   "metadata": {},
   "outputs": [],
   "source": [
    "grocery_list = {'milk', 'eggs', 'tomato', 'apple', 'pasta'}\n",
    "cart = {'apple', 'apple', 'tomato', 'chocolate', 'milk', 'eggs', 'eggs', 'tomato', 'apple', 'chips', 'tomato', 'milk'}"
   ]
  },
  {
   "cell_type": "markdown",
   "metadata": {},
   "source": [
    "We can quickly see what items in the cart are missing from the list using `set1.different(set2)`."
   ]
  },
  {
   "cell_type": "code",
   "execution_count": 17,
   "metadata": {},
   "outputs": [
    {
     "output_type": "execute_result",
     "data": {
      "text/plain": "{'pasta'}"
     },
     "metadata": {},
     "execution_count": 17
    }
   ],
   "source": [
    "grocery_list.difference(cart)"
   ]
  },
  {
   "cell_type": "markdown",
   "metadata": {},
   "source": [
    "The difference operation can also be achieved with the minus (`-`) sign."
   ]
  },
  {
   "cell_type": "code",
   "execution_count": 14,
   "metadata": {},
   "outputs": [
    {
     "output_type": "execute_result",
     "data": {
      "text/plain": "{'pasta'}"
     },
     "metadata": {},
     "execution_count": 14
    }
   ],
   "source": [
    "grocery_list - cart"
   ]
  },
  {
   "cell_type": "markdown",
   "metadata": {},
   "source": [
    "If we do the set difference the other way, we can see what items snuck into our cart that weren't on our grocery list...."
   ]
  },
  {
   "cell_type": "code",
   "execution_count": 18,
   "metadata": {},
   "outputs": [
    {
     "output_type": "execute_result",
     "data": {
      "text/plain": "{'chips', 'chocolate'}"
     },
     "metadata": {},
     "execution_count": 18
    }
   ],
   "source": [
    "cart - grocery_list"
   ]
  },
  {
   "cell_type": "markdown",
   "metadata": {},
   "source": [
    "If we want to see what all of the unique items in both sets, we can use the `.union()` or `|` operator."
   ]
  },
  {
   "cell_type": "code",
   "execution_count": 19,
   "metadata": {},
   "outputs": [
    {
     "output_type": "execute_result",
     "data": {
      "text/plain": "{'apple', 'chips', 'chocolate', 'eggs', 'milk', 'pasta', 'tomato'}"
     },
     "metadata": {},
     "execution_count": 19
    }
   ],
   "source": [
    "grocery_list.union(cart)"
   ]
  },
  {
   "cell_type": "code",
   "execution_count": 20,
   "metadata": {},
   "outputs": [
    {
     "output_type": "execute_result",
     "data": {
      "text/plain": "{'apple', 'chips', 'chocolate', 'eggs', 'milk', 'pasta', 'tomato'}"
     },
     "metadata": {},
     "execution_count": 20
    }
   ],
   "source": [
    "grocery_list | cart"
   ]
  },
  {
   "cell_type": "markdown",
   "metadata": {},
   "source": [
    "We can also use the `.intersection()` method or `&` operator to see the overlap between sets (the items in our cart that actually were on the grocery list)."
   ]
  },
  {
   "cell_type": "code",
   "execution_count": 21,
   "metadata": {},
   "outputs": [
    {
     "output_type": "execute_result",
     "data": {
      "text/plain": "{'apple', 'eggs', 'milk', 'tomato'}"
     },
     "metadata": {},
     "execution_count": 21
    }
   ],
   "source": [
    "grocery_list.intersection(cart)"
   ]
  },
  {
   "cell_type": "code",
   "execution_count": 22,
   "metadata": {},
   "outputs": [
    {
     "output_type": "execute_result",
     "data": {
      "text/plain": "{'apple', 'eggs', 'milk', 'tomato'}"
     },
     "metadata": {},
     "execution_count": 22
    }
   ],
   "source": [
    "grocery_list & cart"
   ]
  },
  {
   "cell_type": "markdown",
   "metadata": {},
   "source": [
    "Great, hopefully the unordered `set` makes a little more sense now. We are now ready to learn one of the most useful data types in Python, the Dictionary (`dict`)."
   ]
  },
  {
   "cell_type": "markdown",
   "metadata": {},
   "source": [
    "## Dictionary (dict)\n",
    "\n",
    "The dictionary is similar to the set in that it is an **unordered** collection of **unique** items. Dictionaries very efficiently store **key-value** pairs of data. \n",
    "\n",
    "## Keys and Values\n",
    "\n",
    "In dictionaries, we need to provide a *name* or **key** to store our data. This **key** is how we will find our data later. Dictionary keys must be immutable (i.e. *hashable*), most commonly an `int` or `string`.\n",
    "\n",
    "The **value** is any object we would like to store in the dictionary at the specified key. The value can be of any type, making the `dict` object extremely flexible.\n",
    "\n",
    "The `dict`, like the `set`, is defined with `{}` curly braces, but each element must be colon `:` separated key-value pair (**key** `:` **value**)."
   ]
  },
  {
   "cell_type": "code",
   "execution_count": 23,
   "metadata": {},
   "outputs": [
    {
     "output_type": "execute_result",
     "data": {
      "text/plain": "dict"
     },
     "metadata": {},
     "execution_count": 23
    }
   ],
   "source": [
    "# Postition of letters in the alphabet\n",
    "alphabet = {'a':1, 'b':2, 'c':3, 'd':4, 'e':7}\n",
    "type(alphabet)"
   ]
  },
  {
   "cell_type": "markdown",
   "metadata": {},
   "source": [
    "To access a *value* in a dict, you must supply the *key*."
   ]
  },
  {
   "cell_type": "code",
   "execution_count": 25,
   "metadata": {
    "tags": []
   },
   "outputs": [
    {
     "output_type": "stream",
     "name": "stdout",
     "text": "1\n7\n"
    }
   ],
   "source": [
    "print(alphabet['a'])\n",
    "print(alphabet['e'])"
   ]
  },
  {
   "cell_type": "markdown",
   "metadata": {},
   "source": [
    "Uh oh, `'e'` is the 5th letter of the alphabet, not the 7th! We can fix it by re-assigning the key to a new value:"
   ]
  },
  {
   "cell_type": "code",
   "execution_count": null,
   "metadata": {},
   "outputs": [],
   "source": [
    "alphabet['e'] = 5\n",
    "print(alphabet['e'])"
   ]
  },
  {
   "cell_type": "markdown",
   "metadata": {},
   "source": [
    "To delete an item in a dictionary, we can use the `.pop()` method. This also returns the value, so you can remove and use the value if you would like."
   ]
  },
  {
   "cell_type": "code",
   "execution_count": null,
   "metadata": {},
   "outputs": [],
   "source": [
    "e_position = alphabet.pop('e')\n",
    "print(\"E is the {}th letter in the alphabet\".format(e_position))\n",
    "\n",
    "# Now e is no longer in the dictionary\n",
    "print(alphabet['e'])"
   ]
  },
  {
   "cell_type": "markdown",
   "metadata": {},
   "source": [
    "## Dict for tabular data\n",
    "\n",
    "Say we have a table (rows and columns) of data. Generally, our table has a header of column names (e.g. *keys* that we can access each column by), and a column of *values*. The sounds awfully similar to a `dict`, and indeed, Dictionaries can be a convenient way of representing tabular data in Python.\n",
    "\n",
    "Say we have a table of number of coffees consumed each day in the weeks leading up to a proposal deadline:\n",
    "\n",
    "| Week | Monday | Tuesday | Wednesday | Thursday | Friday |\n",
    "| - | - | - | - | - | - |\n",
    "| Sep 2 | 2 | 1 | 1 | 1 | 2 | 0 |\n",
    "| Sep 9 | 1 | 2 | 1 | 2 | 1 | 2 |\n",
    "| Sep 16 | 2 | 1 | 2 | 1 | 2 | 2 |\n",
    "| Sep 23 | 3 | 2 | 1 | 2 | 3 | 4 |\n",
    "\n",
    "We can represent this as a `dict`, where the days of the week are the **keys** and the list of coffees each week are the **values**"
   ]
  },
  {
   "cell_type": "code",
   "execution_count": null,
   "metadata": {},
   "outputs": [],
   "source": [
    "coffees = {\n",
    "    'Week': ['Sep 2', 'Sep 9', 'Sep 16', 'Sep 23'],\n",
    "    'Monday': [2, 1, 2, 3],\n",
    "    'Tuesday': [1, 2, 1, 2],\n",
    "    'Wednesday': [1, 1, 2, 1],\n",
    "    'Thursday': [1, 2, 1, 2],\n",
    "    'Friday': [1, 1, 3, 3]\n",
    "}"
   ]
  },
  {
   "cell_type": "markdown",
   "metadata": {},
   "source": [
    "Now we can conveniently access our coffee consumption on any given day over the four weeks by specifying the day as our key."
   ]
  },
  {
   "cell_type": "code",
   "execution_count": null,
   "metadata": {},
   "outputs": [],
   "source": [
    "coffees['Wednesday']"
   ]
  },
  {
   "cell_type": "markdown",
   "metadata": {},
   "source": [
    "If we want to compare all of the coffees consumed on Monday vs Friday:"
   ]
  },
  {
   "cell_type": "code",
   "execution_count": null,
   "metadata": {},
   "outputs": [],
   "source": [
    "print(sum(coffees['Monday']), sum(coffees['Friday']))"
   ]
  },
  {
   "cell_type": "markdown",
   "metadata": {},
   "source": [
    "Or if we want to know how many coffees we consumed on Thursday of week 3:"
   ]
  },
  {
   "cell_type": "code",
   "execution_count": null,
   "metadata": {},
   "outputs": [],
   "source": [
    "coffees['Thursday'][2]"
   ]
  },
  {
   "cell_type": "markdown",
   "metadata": {},
   "source": [
    "And if we want to get fancy, we can use a loop over the weeks and a loop over the days of the week to get the total coffees each week leading up to our deadline."
   ]
  },
  {
   "cell_type": "code",
   "execution_count": null,
   "metadata": {},
   "outputs": [],
   "source": [
    "for i, week in enumerate(coffees['Week']):\n",
    "    total = 0\n",
    "    for day in ('Monday', 'Tuesday', 'Wednesday', 'Thursday', 'Friday'):\n",
    "        total += coffees[day][i]\n",
    "    print(\"I drank {} coffees in week {}\".format(total, week))"
   ]
  },
  {
   "cell_type": "markdown",
   "metadata": {},
   "source": [
    "## Dictionary Practice"
   ]
  },
  {
   "cell_type": "code",
   "execution_count": null,
   "metadata": {},
   "outputs": [],
   "source": [
    "# Dict of day of the week to shoe sizes sold\n",
    "shoe_dict = {'Monday' : [7, 8, 9, 6, 7, 7, 9, 7, 8],\n",
    "             'Tuesday' : [7, 6, 7, 8, 9, 6, 7, 7, 9], \n",
    "             'Wednesday' : [6, 7, 7, 9],\n",
    "             'Thursday' : [7, 7, 6, 7, 9, 8, 6, 7, 13],\n",
    "             'Friday' : [13, 7, 6, 7, 8, 9, 6, 7, 7],\n",
    "             'Saturday' : [7, 7, 9, 7, 8, 10],\n",
    "             'Sunday': [7, 7, 9, 7, 8, 10]}\n",
    "shoe_dict['Thursday']"
   ]
  },
  {
   "cell_type": "code",
   "execution_count": null,
   "metadata": {},
   "outputs": [],
   "source": [
    "# return True if all of the same shoe shoe sizes and number of each were sold on saturday and sunday\n",
    "# in the same order\n",
    "\n",
    "\n",
    "# return True if all of the same shoe sizes (regardless of number) were sold on monday and tuesday\n",
    "# hint: compare two sets\n",
    "\n",
    "\n",
    "# return True if all of the same shoe sizes and number of each were sold on thursday and friday\n",
    "# regardless of the order they were sold in\n",
    "# hint: compare two sorted lists\n"
   ]
  }
 ]
}