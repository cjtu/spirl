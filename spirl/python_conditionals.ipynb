{
 "metadata": {
  "language_info": {
   "codemirror_mode": {
    "name": "ipython",
    "version": 3
   },
   "file_extension": ".py",
   "mimetype": "text/x-python",
   "name": "python",
   "nbconvert_exporter": "python",
   "pygments_lexer": "ipython3",
   "version": "3.7.1-final"
  },
  "orig_nbformat": 2,
  "kernelspec": {
   "name": "python_defaultSpec_1598231905680",
   "display_name": "Python 3.7.1 64-bit ('Anaconda3': conda)"
  }
 },
 "nbformat": 4,
 "nbformat_minor": 2,
 "cells": [
  {
   "cell_type": "markdown",
   "metadata": {},
   "source": [
    "# Conditionals\n",
    "\n",
    "Conditional (or, *if statements*) are ways to break up code based on certain conditions that are met. Each conditional takes a *boolean expression* and decides what to do based on whether the expression is `True` or `False`.\n",
    "\n",
    "## If statements\n",
    "\n",
    "If statements allow you to change the execution of your code based on whether or not a condition is met. They consist of a **condition** (the boolean expression) and a **clause** (the stuff to do if the condition is `True`).\n",
    "\n",
    "If statements will often use **comparison operators** like `==` (is equal to) to determine whether the following code is run.\n",
    "\n",
    "The if statement follows the following form:\n",
    "\n",
    "```Python\n",
    "if 'something' == 'something else':\n",
    "    # this is the clause that is run if the condition is true\n",
    "    # it will run this code\n",
    "    # and everything else indented here\n",
    "# This un-indented code is no longer part of the clause\n",
    "# It runs regardless of whether the if block was run\n",
    "```\n",
    "\n",
    "Change the value of mynum in the following example to see what happens when an if statement is False. When mynum is not 5, is the print statement exectued?"
   ]
  },
  {
   "cell_type": "code",
   "execution_count": 1,
   "metadata": {
    "tags": []
   },
   "outputs": [
    {
     "output_type": "stream",
     "name": "stdout",
     "text": "My number is 5\n"
    }
   ],
   "source": [
    "mynum = 5\n",
    "\n",
    "if mynum == 5:\n",
    "    print('My number is 5')"
   ]
  },
  {
   "cell_type": "markdown",
   "metadata": {},
   "source": [
    "## if, elif, else statements\n",
    "\n",
    "Additional clauses can be added to the if statement to modify its behaviour in other cases. \n",
    "\n",
    "The `elif` statement will run its clause if the previous condition(s) were not met, but this additional condition *is* met.\n",
    "\n",
    "The `else` statement will run its clause if none of the preceeding if and elif statements have their conditions met. The else statement always comes last.\n",
    "\n",
    "You can string together many conditions and clauses into one if, elif, else block:\n",
    "```Python\n",
    "if breed == 'border collie':\n",
    "    size = 'medium'\n",
    "elif breed == 'yorkie':\n",
    "    size = 'tiny'\n",
    "elif breed == 'newfoundland':\n",
    "    size = 'huge'\n",
    "elif breen == 'basset hound':\n",
    "    size = 'small'\n",
    "else:\n",
    "    size = '?'\n",
    "```\n",
    "\n",
    "Experiment with running this code and changing the breed:"
   ]
  },
  {
   "cell_type": "code",
   "execution_count": 2,
   "metadata": {
    "tags": []
   },
   "outputs": [
    {
     "output_type": "stream",
     "name": "stdout",
     "text": "The size of the breed is: medium\n"
    }
   ],
   "source": [
    "#Change the breed here\n",
    "breed = 'border collie'\n",
    "\n",
    "if breed == 'border collie':\n",
    "    size = 'medium'\n",
    "elif breed == 'yorkie':\n",
    "    size = 'tiny'\n",
    "elif breed == 'newfoundland':\n",
    "    size = 'huge'\n",
    "elif breen == 'basset hound':\n",
    "    size = 'small'\n",
    "else:\n",
    "    size = '?'\n",
    "    \n",
    "#Print the value of size\n",
    "print('The size of the breed is:', size)"
   ]
  }
 ]
}