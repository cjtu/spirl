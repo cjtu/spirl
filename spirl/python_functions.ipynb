{
 "cells": [
  {
   "cell_type": "markdown",
   "metadata": {},
   "source": [
    "# Methods\n",
    "Classes have special functions defined only for their own members called class methods, or simply **methods**. Methods are called on an object by following that object with `.methodname()`. We saw methods like `.isround()` in action above. Built-in classes like `str` have methods too!"
   ]
  },
  {
   "cell_type": "code",
   "execution_count": null,
   "metadata": {},
   "outputs": [],
   "source": [
    "# The upper() method changes all characters in a string to uppercase\n",
    "introduction = 'Hi, my name is...'\n",
    "introduction.upper()"
   ]
  },
  {
   "cell_type": "code",
   "execution_count": null,
   "metadata": {},
   "outputs": [],
   "source": [
    "# The isdigit() method checks if all characters in a string are digits\n",
    "'12345'.isdigit()"
   ]
  },
  {
   "cell_type": "markdown",
   "metadata": {},
   "source": [
    "Using the `help()` function on a class shows all methods available to instances of that class. The `__methods__` are private methods used internally by Python. Skip down to `capitalize(...)` to see the methods available to us."
   ]
  },
  {
   "cell_type": "code",
   "execution_count": null,
   "metadata": {},
   "outputs": [],
   "source": [
    "help(str)"
   ]
  },
  {
   "cell_type": "code",
   "execution_count": null,
   "metadata": {},
   "outputs": [],
   "source": [
    "# The capitalize method capitalizes the fist letter of the str\n",
    "'united states'.capitalize()"
   ]
  },
  {
   "cell_type": "markdown",
   "metadata": {},
   "source": [
    "# Functions\n",
    "Functions are like methods but are independent of a specific class. Any objects that they act on must be passed in as arguments. Let's break down the anatomy of a function.\n",
    "\n",
    "```Python\n",
    "def funcname(arg1, arg2):\n",
    "    \"\"\"Docstring\"\"\"\n",
    "    # Do stuff here\n",
    "    return output\n",
    "```\n",
    "\n",
    "All functions start with a `def` or **define** statement, followed by the name of the function and a list of arguments in parentheses. \n",
    "\n",
    "Below the `def` statement is the **docstring** in triple quotes `\"\"\" \"\"\"`. Docstrings are important for humans (including you) who need to read / use your code. The docstring explains what the function does, what arguments the function needs to work properly, and can even suggest example usage. The docsting is what is shown when you call `help(funcname)` on your function.\n",
    "\n",
    "As we saw with the if blocks, Python uses indentation to organize code. All code indented in the function definition will be run when the function is called. \n",
    "\n",
    "Finally, if your function produces an output, it must be **returned** with a `return` statement. This signals the end of the function. Python will pick up where it left off before running the function.\n",
    "\n",
    "Let's work through an example. Say we encounter the following function `stuff()`. We may not know what it does initially if we don't know where it is defined. Let's try calling `help()`."
   ]
  },
  {
   "cell_type": "code",
   "execution_count": null,
   "metadata": {},
   "outputs": [],
   "source": [
    "def stuff(a):\n",
    "    return a**2\n",
    "help(stuff)"
   ]
  },
  {
   "cell_type": "markdown",
   "metadata": {},
   "source": [
    "Hmm. Not very descriptive. And the name of the function is not exactly helpful. I guess we need to try some examples to figure it out."
   ]
  },
  {
   "cell_type": "code",
   "execution_count": null,
   "metadata": {},
   "outputs": [],
   "source": [
    "stuff('hello?')"
   ]
  },
  {
   "cell_type": "markdown",
   "metadata": {},
   "source": [
    "Well it didn't like the `str`, so let's try an `int` instead."
   ]
  },
  {
   "cell_type": "code",
   "execution_count": null,
   "metadata": {},
   "outputs": [],
   "source": [
    "stuff(1)"
   ]
  },
  {
   "cell_type": "markdown",
   "metadata": {},
   "source": [
    "Now we're getting somewhere, maybe `stuff` returns the number it is given!"
   ]
  },
  {
   "cell_type": "code",
   "execution_count": null,
   "metadata": {},
   "outputs": [],
   "source": [
    "stuff(2)"
   ]
  },
  {
   "cell_type": "markdown",
   "metadata": {},
   "source": [
    "There goes that idea. But this looks like it could be pattern."
   ]
  },
  {
   "cell_type": "code",
   "execution_count": null,
   "metadata": {},
   "outputs": [],
   "source": [
    "print(stuff(1),stuff(2),stuff(3),stuff(4),stuff(5))"
   ]
  },
  {
   "cell_type": "markdown",
   "metadata": {},
   "source": [
    "Cool it looks like `stuff` takes the square of the number it is given! Now to do the same trial and error with the function `allxsonthelistorunderbutnotboth(x1, x2, x3, x4, x5, x6, list1, list2)`. Uhh...\n",
    "\n",
    "That was an example of writing a function with poor *style*. The function worked as intended, but was frustrating to use if you didn't remember what `stuff()` did. I hope this highlights the importance of readable code. Python comes built-in with features like the **docstring** to avoid situations like the one above. Python won't force you to use docstrings, but it is highly encouraged to get into the habit, especially if you are working with others. And if not for others, do it for future you who won't remember what `stuff()` is in 6 months.\n",
    "\n",
    "So how do we improve our `stuff()` function for squaring numbers? The first step is giving it a self-evident name, e.g. `square(num)`. Next, we can add a docstring with a description `\"\"\"Return the square of num\"\"\"`. Finally, we can describe the parameters, return values and provide a couple examples of how to use it. Altogether, it might look like this."
   ]
  },
  {
   "cell_type": "code",
   "execution_count": null,
   "metadata": {},
   "outputs": [],
   "source": [
    "def square(num):\n",
    "    \"\"\"Return the square of num.\n",
    "    \n",
    "    Parameters\n",
    "    ----------\n",
    "    num: int, float\n",
    "        The number to square.\n",
    "        \n",
    "    Returns\n",
    "    -------\n",
    "    int, float\n",
    "        The square of num.\n",
    "        \n",
    "    Examples\n",
    "    --------\n",
    "    >>> square(2)\n",
    "    4\n",
    "    >>> square(2.5)\n",
    "    6.25\n",
    "    \"\"\"\n",
    "    return num**2"
   ]
  },
  {
   "cell_type": "markdown",
   "metadata": {},
   "source": [
    "Say we encounter `square()` in the wild and want to know how to use it. Now we can call `help(square)` and see a nicely formatted docstring."
   ]
  },
  {
   "cell_type": "code",
   "execution_count": null,
   "metadata": {},
   "outputs": [],
   "source": [
    "help(square)"
   ]
  },
  {
   "cell_type": "markdown",
   "metadata": {},
   "source": [
    "We can even try the examples it provides to ensure the function is working properly."
   ]
  },
  {
   "cell_type": "code",
   "execution_count": null,
   "metadata": {},
   "outputs": [],
   "source": [
    "print(square(2), square(2.5))"
   ]
  },
  {
   "cell_type": "markdown",
   "metadata": {},
   "source": [
    "Much less frustrating! \n",
    "\n",
    "*Style* is an aspect of writing code that is often overlooked in sciences. Just like writing good `git commit` messages, it is very important to write code in a way that future you and future collaborators will be able to read and use.\n",
    "\n",
    "Another aspect of style is knowing when to break your code down into functions that perform small tasks. This is one of the hardest, but most useful programming skills to master. If you can define function(s) for complex / repetitive code and give those functions good names and good docstrings, you are on your way to writing readable, re-usable code!\n",
    "\n",
    "Your turn!"
   ]
  },
  {
   "cell_type": "markdown",
   "metadata": {},
   "source": [
    "## Breaking code down into functions\n",
    "The following example is long and repetitive. See if you can define functions to shorten and simplify the code, and get the same result.\n",
    "\n",
    "In this example, we want to see if 3 people like apples, oranges, and are above the age of 20. The data is formatted as such:\n",
    "\n",
    "person = 'likesapples likesoranges age'\n",
    "```Python\n",
    "person1 = 'yes yes 13'\n",
    "person2 = 'yes nah 21'\n",
    "person3 = 'nah nah 80'\n",
    "```\n",
    "\n",
    "We want to `print('It's a match!')` if all 3 people like apples and oranges and are older than 20. Otherwise, `print('It's not a match!')`."
   ]
  },
  {
   "cell_type": "code",
   "execution_count": null,
   "metadata": {},
   "outputs": [],
   "source": [
    "person1 = 'yes yes 42'\n",
    "person2 = 'yes yes 64'\n",
    "person3 = 'yes yes 80'\n",
    "\n",
    "# Uncomment these three for an example of not a match\n",
    "# person1 = 'yes yes 13'\n",
    "# person2 = 'yes nah 21'\n",
    "# person3 = 'nah nah 80'\n",
    "\n",
    "if person1[0:3] == 'yes' and person1[4:7] == 'yes' and int(person1[8:]) > 20:\n",
    "    if person2[0:3] == 'yes' and person2[4:7] == 'yes' and int(person2[8:]) > 20:\n",
    "        if person3[0:3] == 'yes' and person3[4:7] == 'yes' and int(person3[8:]) > 20:\n",
    "            print(\"It's a match!\")\n",
    "        else:\n",
    "            print(\"It's not a match!\")\n",
    "    else:\n",
    "        print(\"It's not a match!\")\n",
    "else:\n",
    "    print(\"It's not a match!\")"
   ]
  },
  {
   "cell_type": "code",
   "execution_count": null,
   "metadata": {},
   "outputs": [],
   "source": [
    "# Put your function version of the above code here\n",
    "# Don't forget the docstrings!\n",
    "\n",
    "\n"
   ]
  },
  {
   "cell_type": "markdown",
   "metadata": {},
   "source": [
    "There are many possible ways to break up code into functions. How specific you make your functions depends on your particular use case. If you want to see my solution, you can copy and paste it from [here](https://github.com/cjtu/sci_coding/tree/master/lessons/lesson3/data/function_solution.py) and compare with yours!\n",
    "\n",
    "\n",
    "Great job! You made it to the end of the crash course on objects, methods and functions (oh my). Next, we will be working with `Lists and Tuples`."
   ]
  }
 ],
 "metadata": {
  "kernelspec": {
   "display_name": "Python 3",
   "language": "python",
   "name": "python3"
  },
  "language_info": {
   "codemirror_mode": {
    "name": "ipython",
    "version": 3
   },
   "file_extension": ".py",
   "mimetype": "text/x-python",
   "name": "python",
   "nbconvert_exporter": "python",
   "pygments_lexer": "ipython3",
   "version": "3.7.3"
  }
 },
 "nbformat": 4,
 "nbformat_minor": 2
}
