{
 "metadata": {
  "language_info": {
   "codemirror_mode": {
    "name": "ipython",
    "version": 3
   },
   "file_extension": ".py",
   "mimetype": "text/x-python",
   "name": "python",
   "nbconvert_exporter": "python",
   "pygments_lexer": "ipython3",
   "version": 3
  },
  "orig_nbformat": 2
 },
 "nbformat": 4,
 "nbformat_minor": 2,
 "cells": [
  {
   "cell_type": "markdown",
   "metadata": {},
   "source": [
    "# Loops\n",
    "\n",
    "Loops are useful programming concepts that you will find in just about every lanugage because they allow us to repeat a set of instructions many times. We discuss in the [style](python_style) section how loops can help do repetitions for us, so we don't need to repeat code. \n",
    "\n",
    "Python has two types of loops, the **for** loop and the **while** loop. Any repeated task can be done with *either kind of loop*, but as we'll see, you might prefer to choose one type over the other in certain scenarios.\n",
    "\n",
    "## Indentation\n",
    "\n",
    "In Python, blocks of code are denoted by their *indentation level*. A loop will repeat only the lines which are indented, then stop once the indentation returns to normal. In the following example, the two indented lines are repeated, but the final line only runs once because it is outside the loop (back to normal indentation)."
   ]
  },
  {
   "cell_type": "code",
   "execution_count": null,
   "metadata": {},
   "outputs": [],
   "source": [
    "for i in (1, 2, 3):\n",
    "    result = i**2\n",
    "    print(result)\n",
    "print(\"Finished!\")"
   ]
  },
  {
   "cell_type": "markdown",
   "metadata": {},
   "source": [
    "## For loop\n",
    "\n",
    "A **for loop** is most often used to *iterate* through a collection of objects like a `list`, `tuple`, or `string`. At each *iteration*, we get access to the next element in the collection and can do some work on that element. "
   ]
  },
  {
   "cell_type": "code",
   "execution_count": null,
   "metadata": {},
   "outputs": [],
   "source": [
    "squares = [1, 4, 9, 16, 25]\n",
    "for square in squares:\n",
    "    print(square)\n",
    "print(\"We printed\", len(squares), \"squares\")"
   ]
  },
  {
   "cell_type": "markdown",
   "metadata": {},
   "source": [
    "In the above example, the `squares` list is the collection we are looping through, and `square` is a variable that Python re-defines every iteration to be the next element in `squares`.\n",
    "\n",
    "Iteration by iteration, we get:\n",
    "\n",
    "- On the *first* iteration, `square == 1`\n",
    "- On the *second* iteration, `square == 4`\n",
    "- On the *third* iteration, `square == 9`\n",
    "- On the *fourth* iteration, `square == 16`\n",
    "- On the *fifth* iteration, `square == 25`\n",
    "- After `25`, there are no more elements in `squares`, so the loop ends and Python runs the next unindented line (the final `print()` statement)\n",
    "\n",
    "We can choose any variable name that we'd like when define the for loop, it didn't have to be `square`."
   ]
  },
  {
   "cell_type": "code",
   "execution_count": null,
   "metadata": {},
   "outputs": [],
   "source": [
    "squares = [1, 4, 9, 16, 25]\n",
    "for x in squares:\n",
    "    print(x)\n",
    "print(\"We printed\", len(squares), \"squares\")"
   ]
  },
  {
   "cell_type": "code",
   "execution_count": null,
   "metadata": {},
   "outputs": [],
   "source": [
    "squares = [1, 4, 9, 16, 25]\n",
    "for jack_russell_terrier in squares:\n",
    "    print(jack_russell_terrier)\n",
    "print(\"We printed\", len(squares), \"squares\")"
   ]
  },
  {
   "cell_type": "markdown",
   "metadata": {},
   "source": [
    "**Aside: Good naming conventions**\n",
    "\n",
    "As we have said before in this text and will say again: \n",
    "\n",
    "- good naming conventions will save you a lot of future headaches\n",
    "\n",
    "It is good *style* to name our variables something *expressive* that reveals what they are. For example, in the `squares` list above, each element is a square number, making `square` a more logical choice for our loop variable than `jack_russell_terrier` (regardless of how much cuter our code is with dogs).\n",
    "\n",
    "**Readability**\n",
    "\n",
    "When we use *good naming conventions* in Python, something **magical** happens: most of the code you write will read like *plain English* (with a couple words inferred here and there).\n",
    "\n",
    "For example, if we wanted to describe what the loop above did, we could say:\n",
    "\n",
    "- Go through the list of squares one element at a time, and **for each square in the list, print the square**\n",
    "\n",
    "\n",
    "In Python code (with *expressive names* for our list and loop variable), we can translate it to Engligh by adding very few extra words:\n",
    "\n",
    "```Python\n",
    "for square in squares:  # for [each] square in [the] squares [list],\n",
    "    print(square)  # print [the] square\n",
    "```"
   ]
  },
  {
   "cell_type": "markdown",
   "metadata": {},
   "source": [
    "## Range\n",
    "\n",
    "A useful built-in function that we commonly use in *for loops* is `range()`. Range is a quick way to make sequence of numbers to loop through."
   ]
  },
  {
   "cell_type": "code",
   "execution_count": null,
   "metadata": {},
   "outputs": [],
   "source": [
    "r = range(5)  \n",
    "print(type(r))\n",
    "print(r)"
   ]
  },
  {
   "cell_type": "markdown",
   "metadata": {},
   "source": [
    "It seems like `range` is its own type in Python. Let's see what happens when we loop through a `range` object:"
   ]
  },
  {
   "cell_type": "code",
   "execution_count": null,
   "metadata": {},
   "outputs": [],
   "source": [
    "for i in range(10): # Loop through numbers 0 to 9\n",
    "    print(i)"
   ]
  },
  {
   "cell_type": "markdown",
   "metadata": {},
   "source": [
    "If we want to start at another value, we can specify two arguments in `range()`, the `start` and `stop`:"
   ]
  },
  {
   "cell_type": "code",
   "execution_count": null,
   "metadata": {},
   "outputs": [],
   "source": [
    "for i in range(37, 42):\n",
    "    print(i)"
   ]
  },
  {
   "cell_type": "markdown",
   "metadata": {},
   "source": [
    "*Note*: Like when slicing, the end index is excluded from the range. This way, if you specify a range from `(37, 42)`, there are `42-37 = 5` numbers in the range, as printed above.\n",
    "\n",
    "We can also change the spacing of the elements in our range by specifying a *third* argument to `range()`."
   ]
  },
  {
   "cell_type": "code",
   "execution_count": null,
   "metadata": {},
   "outputs": [],
   "source": [
    "for i in range(0, 15, 3):\n",
    "    print(i)"
   ]
  },
  {
   "cell_type": "markdown",
   "metadata": {},
   "source": [
    "Often the `range()` function is useed to get *indices* to loop over, and it's convention to reserve `i`, `j`, and `k` for *index variables*. When we loop over the indices of a `list`, `tuple`, or `string`, we can then access each item one at a time with that index."
   ]
  },
  {
   "cell_type": "code",
   "execution_count": null,
   "metadata": {},
   "outputs": [],
   "source": [
    "fruits = ['banana', 'apple', 'pear', 'tomato']\n",
    "for i in range(4):\n",
    "    print(\"We are on index\", i)\n",
    "    print(fruits[i])"
   ]
  },
  {
   "cell_type": "markdown",
   "metadata": {},
   "source": [
    "We commonly want to loop through all of the elements of a collection of items, like in the code block above. To do this in general (without needing to count up all the elements to pass as a number to range), we can just pass in the `len()` of that collection. This allows us to always loop to the end of the collection, *even if its length changes*."
   ]
  },
  {
   "cell_type": "code",
   "execution_count": null,
   "metadata": {},
   "outputs": [],
   "source": [
    "fruits = ['banana', 'apple', 'pear', 'tomato']\n",
    "for i in range(len(fruits)):\n",
    "    print(i, \":\", fruits[i])\n",
    "    \n",
    "fruits.append('pineapple')\n",
    "fruits.append('plum')\n",
    "print(\"\\nOh no! Added more fruit!\\n\")\n",
    "\n",
    "for i in range(len(fruits)):\n",
    "    print(i, \":\", fruits[i])"
   ]
  },
  {
   "cell_type": "markdown",
   "metadata": {},
   "source": [
    "## Enumerate\n",
    "\n",
    "We will often want to loop a collection of items, but also want to know the indices of those values. To do this, we can do the following which works, but is a little messy:"
   ]
  },
  {
   "cell_type": "code",
   "execution_count": null,
   "metadata": {},
   "outputs": [],
   "source": [
    "vegetables = ['carrot', 'lettuce', 'zucchini']\n",
    "for i in range(len(vegetables)):\n",
    "    print(\"Index\", i, \":\", vegetables[i])"
   ]
  },
  {
   "cell_type": "markdown",
   "metadata": {},
   "source": [
    "Alternatively, we can use the `enumerate()` function, which is a shortcut to get the *index* **and** *value* in each iteration of the loop. \n",
    "\n",
    "*Note*: `enumerate()` completely replaces the ugly `range(len())` and allows us to pick a good variable name for our loop variable!"
   ]
  },
  {
   "cell_type": "code",
   "execution_count": null,
   "metadata": {},
   "outputs": [],
   "source": [
    "for i, vegetable in enumerate(vegetables):\n",
    "    print(\"Index\", i, \":\", vegetable)"
   ]
  },
  {
   "cell_type": "markdown",
   "metadata": {},
   "source": [
    "## Practice for loops\n",
    "\n",
    "1. Sort the following list of names in alphabetical order (by first name)\n",
    "2. Loop through the list and \n",
    "  - print the rank of the name in alphabetical order\n",
    "  - print the last name of the person at that rank\n",
    "\n",
    "Hints: the list method, `.sort()`, and the string method `.split()` may be useful. Also your ranking should start at 1 (not 0)!"
   ]
  },
  {
   "cell_type": "code",
   "execution_count": null,
   "metadata": {},
   "outputs": [],
   "source": [
    "cool_scientists = ['Marie Curie', 'Jane Goodall', 'Vera Rubin', 'Mae Jemison', \n",
    "                   'Rosalind Franklin', 'Donna Strickland', 'Frances Arnold']\n",
    "\n",
    "# Write and test your solution here\n",
    "\n"
   ]
  },
  {
   "cell_type": "markdown",
   "metadata": {},
   "source": [
    "## While loops\n",
    "\n",
    "A while loop is similar to the **for loop**, except it is defined in terms of a *end condition*, rather than a collection of elements.\n",
    "\n",
    "While loops should be used when you need to loop *until a condition is met*, often in these cases, we do not know how many iterations we will need to complete."
   ]
  },
  {
   "cell_type": "code",
   "execution_count": null,
   "metadata": {},
   "outputs": [],
   "source": [
    "capacity = 100\n",
    "people = 0\n",
    "while people < capacity:\n",
    "    people += 10\n",
    "    print(\"Number of people:\", people)\n",
    "print(\"We're at capacity!\")"
   ]
  },
  {
   "cell_type": "markdown",
   "metadata": {},
   "source": [
    "Let's unpack the example above:\n",
    "\n",
    "- Initially, `people` (0) begins *less than* `capacity` (100), so the while condition is `True` and we enter the loop\n",
    "- Each iteration, we increase `people` by 10\n",
    "- After 10 iterations, `people` is *greater or equal to* capacity, so the while condition is no longer `True` and we exit the loop\n",
    "- Finally we continue running the next line outside the loop (the final `print()` statement)\n",
    "\n",
    "Although you generally want to use a **for loop** to iterate over a collection of elements, we can also accomplish the same thing with a while loop, but we have to keep track of our iterator variable manually."
   ]
  },
  {
   "cell_type": "code",
   "execution_count": null,
   "metadata": {},
   "outputs": [],
   "source": [
    "dogs = ['husky', 'poodle', 'greyhound', 'boxer', 'shibe']\n",
    "i = 0  # we need to define our iterator before the loop\n",
    "while i < len(dogs):\n",
    "    print(dogs[i])\n",
    "    i = i + 1  # Don't forget to increment the iterator!\n",
    "print(\"Much wow! Many dog!\")"
   ]
  },
  {
   "cell_type": "markdown",
   "metadata": {},
   "source": [
    "What do you think happens if we left out the `i = i + 1` line? Think about the `i < len(dogs)` condition. If you're brave, run the next code block:"
   ]
  },
  {
   "cell_type": "code",
   "execution_count": null,
   "metadata": {},
   "outputs": [],
   "source": [
    "dogs = ['husky', 'poodle', 'greyhound', 'boxer', 'shibe']\n",
    "i = 0  # we need to define our iterator before the loop\n",
    "while i < len(dogs):\n",
    "    print(dogs[i])"
   ]
  },
  {
   "cell_type": "markdown",
   "metadata": {},
   "source": [
    "With while loops, it is very important to make sure that the loop can *terminate*, that is, that the while condition will become `False` at some point. Otherwise we can get sneaky infinite loops in our code.\n",
    "\n",
    "## Practice while loops\n",
    "\n",
    "Say we want to see how many times we can (integer) divide a number by 2 before it is less than or equal to 1. We don't know how many times we need to divide the number when we start, but we do know when to stop. We should use a while loop!\n",
    "\n",
    "Write the condition that allows the following code to terminate correctly:"
   ]
  },
  {
   "cell_type": "code",
   "execution_count": null,
   "metadata": {},
   "outputs": [],
   "source": [
    "num = 99\n",
    "count = 0\n",
    "while False:  # replace False with the correct condition\n",
    "    num = num // 2\n",
    "    count += 1\n",
    "print(\"The base 2 log of 99 is\", count)"
   ]
  },
  {
   "cell_type": "markdown",
   "metadata": {},
   "source": [
    "Given the following list,\n",
    "\n",
    "1. sort the list in alphabetical order (by first name)\n",
    "2. using a **while loop**, print each name that starts with a letter before 'n'\n",
    "\n",
    "Hint: try comparing two letters, e.g. `a < e` or `f < b`"
   ]
  },
  {
   "cell_type": "code",
   "execution_count": null,
   "metadata": {},
   "outputs": [],
   "source": [
    "cool_scientists = ['Marie Curie', 'Jane Goodall', 'Vera Rubin', 'Mae Jemison', \n",
    "                   'Rosalind Franklin', 'Donna Strickland', 'Frances Arnold']\n",
    "# Write and test your solution here\n",
    "\n"
   ]
  }
 ]
}