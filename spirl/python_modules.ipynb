{
 "cells": [
  {
   "cell_type": "markdown",
   "metadata": {},
   "source": [
    "# Modules\n",
    "\n",
    "A package can have one of more **modules** in it. A module is a single Python file which defines one or more functions that can be used elsewhere in your code by using an `import` statement.\n",
    "\n",
    "If you have Python installed on your PC, try saving the following as a file called `square_module.py`:\n",
    "\n",
    "```Python\n",
    "def square(x):\n",
    "    \"\"\" \n",
    "    Return the squared value of x.\n",
    "    \n",
    "    Parameter\n",
    "    ---------\n",
    "    x: num\n",
    "        Value to square.\n",
    "    \n",
    "    Return\n",
    "    ------\n",
    "    square: num\n",
    "        Squared value of x.\n",
    "    \"\"\"\n",
    "    return x**2\n",
    "\n",
    "print(square(7))\n",
    "```\n",
    "\n",
    "You can now run this file from the shell by typing:\n",
    "\n",
    "```Bash\n",
    "Python square_module.py\n",
    "# 49\n",
    "```\n",
    "\n",
    "Great, our number was squared! Now say we want to use the `square()` function in another Python program. In a new file in the same directory, type the following and save it as `run_square.py`:\n",
    "\n",
    "```Python\n",
    "print(square(7))\n",
    "```\n",
    "\n",
    "Uh oh! Python doesn't know about the `square()` function that we wrote in the other program. Let's `import` our other program as a **module** so that we can use functions in it.\n",
    "\n",
    "Open `run_square.py` again and add an `import` statement to the following line to the **top** of the file. Then update the `square()` function line. We can call fucntions from imported modules by naming the module and following it with a `.` and finally the function (e.g. `module.function()`):\n",
    "\n",
    "```Python\n",
    "import square_module\n",
    "print(square_module.square(7))\n",
    "```\n",
    "\n",
    "Now try runnning our new program.\n",
    "\n",
    "```Bash\n",
    "\n",
    "Python run_square.py\n",
    "```\n",
    "\n",
    "\n"
   ]
  },
  {
   "cell_type": "markdown",
   "metadata": {},
   "source": [
    "## Importing modules\n",
    "\n",
    "We learned above that to make a module's functions accessible in a script, we need to `import` it. By convention, we write all import statements at the top of our Python programs. \n",
    "\n",
    "If a package has multiple modules, we can specify a single module to import with `import packagename.modulename`. Functions from an imported module can be invoked with a dot `.` after the name of the module they are found in."
   ]
  },
  {
   "cell_type": "code",
   "execution_count": 1,
   "metadata": {},
   "outputs": [],
   "source": [
    "#===========================================================\n",
    "# Run this cell ONLY if you are viewing this on mybinder.org\n",
    "#import sys\n",
    "#!conda install --yes --prefix {sys.prefix} numpy matplotlib\n",
    "#==========================================================="
   ]
  },
  {
   "cell_type": "code",
   "execution_count": 2,
   "metadata": {},
   "outputs": [],
   "source": [
    "import matplotlib.pyplot # Imports the pyplot module within the matplotlib package"
   ]
  },
  {
   "cell_type": "code",
   "execution_count": 3,
   "metadata": {},
   "outputs": [
    {
     "data": {
      "text/plain": [
       "[<matplotlib.lines.Line2D at 0x7fe2e0260320>]"
      ]
     },
     "execution_count": 3,
     "metadata": {},
     "output_type": "execute_result"
    },
    {
     "data": {
      "image/png": "[encoded data removed]",
      "text/plain": [
       "<Figure size 432x288 with 1 Axes>"
      ]
     },
     "metadata": {
      "needs_background": "light"
     },
     "output_type": "display_data"
    }
   ],
   "source": [
    "x = (0, 1, 2, 3, 4)\n",
    "y = (0, 1, 2, 4, 8)\n",
    "\n",
    "matplotlib.pyplot.plot(x, y) # The plot function in the pyplot module"
   ]
  },
  {
   "cell_type": "markdown",
   "metadata": {},
   "source": [
    "Wow. `matplotlib.pyplot.plot()` is a lot of typing to plot a simple function. Luckily Python gives us a way to make the usage of `pyplot` much shorter."
   ]
  },
  {
   "cell_type": "markdown",
   "metadata": {},
   "source": [
    "## Import as \n",
    "Python allows you to set up shorthand notation (an *alias*) to refer to a package or module. In this case, you write `import package.module as abbr`. Now `abbr` refers to your imported module and you can call functions with `abbr.function()`."
   ]
  },
  {
   "cell_type": "code",
   "execution_count": 4,
   "metadata": {},
   "outputs": [],
   "source": [
    "import matplotlib.pyplot as plt # Define the short form plt for matplotlib.pyplot"
   ]
  },
  {
   "cell_type": "code",
   "execution_count": 5,
   "metadata": {},
   "outputs": [
    {
     "data": {
      "text/plain": [
       "[<matplotlib.lines.Line2D at 0x7fe2c0fbda90>]"
      ]
     },
     "execution_count": 5,
     "metadata": {},
     "output_type": "execute_result"
    },
    {
     "data": {
      "image/png": "[encoded data removed]",
      "text/plain": [
       "<Figure size 432x288 with 1 Axes>"
      ]
     },
     "metadata": {
      "needs_background": "light"
     },
     "output_type": "display_data"
    }
   ],
   "source": [
    "plt.plot(x, y) # Now we can write plt.func() instead of matplotlib.pyplot.func()"
   ]
  },
  {
   "cell_type": "markdown",
   "metadata": {},
   "source": [
    "This key takeaway of this brief overview is that modules are simply Python files that we can `import` functions from for use elsewhere in our code. \n",
    "\n",
    "As we will see in the next chapter, we often want to import functions written and test by others, and a common way to do this is by install a **packages** which provides one or more *modules* that we can use in our own code. The plotting package we saw above, `matplotlib` is just one of many large open source packages developed by the Python community. We will explore some of the most common scientific Python packages in the following chapter."
   ]
  }
 ],
 "metadata": {
  "kernelspec": {
   "display_name": "Python 3",
   "language": "python",
   "name": "python3"
  },
  "language_info": {
   "codemirror_mode": {
    "name": "ipython",
    "version": 3
   },
   "file_extension": ".py",
   "mimetype": "text/x-python",
   "name": "python",
   "nbconvert_exporter": "python",
   "pygments_lexer": "ipython3",
   "version": "3.7.3"
  }
 },
 "nbformat": 4,
 "nbformat_minor": 2
}
