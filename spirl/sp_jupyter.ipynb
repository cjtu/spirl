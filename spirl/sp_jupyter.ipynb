{
 "metadata": {
  "language_info": {
   "codemirror_mode": {
    "name": "ipython",
    "version": 3
   },
   "file_extension": ".py",
   "mimetype": "text/x-python",
   "name": "python",
   "nbconvert_exporter": "python",
   "pygments_lexer": "ipython3",
   "version": 3
  },
  "orig_nbformat": 2
 },
 "nbformat": 4,
 "nbformat_minor": 2,
 "cells": [
  {
   "cell_type": "markdown",
   "metadata": {},
   "source": [
    "# Jupyter Notebooks\n",
    "\n",
    "The **Jupyter Notebook** is an interactive document that combines text and code. They can be a great way of communicating your science in an expressive, transparent, and reproducible way like this great dive into sunspot data ([link](http://nbviewer.jupyter.org/gist/jhemann/4569783)).\n",
    "\n",
    "In the *Anaconda* chapter, we will learn to run our own Jupyter notebook servers to create and test our own notebooks locally. For now, we can use a website called *mybinder.org* to view, edit, and practice our programming in interactive Jupyter notebooks..\n",
    "\n",
    "You can open this page in *MyBinder* by clicking the **Interact** button above, or by clicking the following [link](https://mybinder.org/v2/gh/cjtu/sci_coding/master?filepath=lessons%2Flesson2%2Fdata%2Fjupyter_tutorial.ipynb). \n",
    "\n",
    "We reccommend you head over to *MyBinder* before continuing this page!\n",
    "\n",
    "\n",
    "## Anatomy of a Jupyter notebook\n",
    "\n",
    "Jupyter Notebooks consist of **cells** that contain either text or Python code. \n",
    "\n",
    "This is a text (`Markdown`) cell. It supports basic text formatting with Markdown and can be used to descibe the code that preceeds or follows it. \n",
    "\n",
    "The cell below is a `Code` cell. You can quickly write and run Python in `Code` cells, and any outputs or plots will be shown directly below them."
   ]
  },
  {
   "cell_type": "code",
   "execution_count": null,
   "metadata": {},
   "outputs": [],
   "source": [
    "# This is a code cell.\n",
    "# Any outputs of code written here will appear directly below.\n",
    "print('Hello World')"
   ]
  },
  {
   "cell_type": "markdown",
   "metadata": {},
   "source": [
    "## Editing blocks\n",
    "You can edit any block by double clicking it to enter edit mode. Double click me to edit!\n",
    "\n",
    "## Running cells\n",
    "To run a cell, click the cell to select it, and then click the `>| Run` button above. \n",
    "\n",
    "Try running the block below."
   ]
  },
  {
   "cell_type": "code",
   "execution_count": null,
   "metadata": {},
   "outputs": [],
   "source": [
    "print(\"You can run me by selecting me and clicking Run\")"
   ]
  },
  {
   "cell_type": "markdown",
   "metadata": {},
   "source": [
    "## Making new cells\n",
    "You can make a new cell by clicking the `+` button in the toolbar above. New cells default to the`Code` cell type. You can change the type of a cell in the dropdown menu above.\n",
    "\n",
    "Try adding a `Markdown` cell below. Write something surrounded by asterisks (e.g. `**wow**`) and then click `>| Run` to render your new cell.\n",
    "\n",
    "## Cool plots\n",
    "Jupyter notebooks also allow you display plots and graphics inline. Try running the following two code blocks (don't worry about the code for now)."
   ]
  },
  {
   "cell_type": "code",
   "execution_count": null,
   "metadata": {},
   "outputs": [],
   "source": [
    "# This will install the numpy and matplotlib packages to show the following plot\n",
    "import sys\n",
    "!conda install --yes --prefix {sys.prefix} numpy matplotlib"
   ]
  },
  {
   "cell_type": "code",
   "execution_count": null,
   "metadata": {},
   "outputs": [],
   "source": [
    "# Taken from the matplotlib examples gallery: https://matplotlib.org/gallery/ (full url below)\n",
    "# https://matplotlib.org/gallery/lines_bars_and_markers/cohere.html#sphx-glr-gallery-lines-bars-and-markers-cohere-pym https://matplotlib.org/gallery/lines_bars_and_markers/cohere.html#sphx-glr-gallery-lines-bars-and-markers-cohere-py\n",
    "import numpy as np\n",
    "import matplotlib.pyplot as plt\n",
    "\n",
    "# Fixing random state for reproducibility\n",
    "np.random.seed(19680801)\n",
    "\n",
    "dt = 0.01\n",
    "t = np.arange(0, 30, dt)\n",
    "nse1 = np.random.randn(len(t))                 # white noise 1\n",
    "nse2 = np.random.randn(len(t))                 # white noise 2\n",
    "\n",
    "# Two signals with a coherent part at 10Hz and a random part\n",
    "s1 = np.sin(2 * np.pi * 10 * t) + nse1\n",
    "s2 = np.sin(2 * np.pi * 10 * t) + nse2\n",
    "\n",
    "fig, axs = plt.subplots(2, 1)\n",
    "axs[0].plot(t, s1, t, s2)\n",
    "axs[0].set_xlim(0, 2)\n",
    "axs[0].set_xlabel('time')\n",
    "axs[0].set_ylabel('s1 and s2')\n",
    "axs[0].grid(True)\n",
    "axs[0].set_title('The coherence of two signals')\n",
    "\n",
    "cxy, f = axs[1].cohere(s1, s2, 256, 1. / dt)\n",
    "axs[1].set_ylabel('coherence')\n",
    "\n",
    "# fig.tight_layout()\n",
    "plt.show()"
   ]
  },
  {
   "cell_type": "markdown",
   "metadata": {},
   "source": [
    "## Other options\n",
    "Note some other buttons on the toolbar above:\n",
    "- save: Saves the notebook. Your notebook will also autosave every few minutes.\n",
    "- cut, copy, and paste: Duplicate or move cells.\n",
    "- stop, refresh, fast-forward: These stop, restart and re-run the **kernel**.\n",
    "\n",
    "**Kernels**: Underlying the Jupyter notebook is an **IPython** kernel which is interpreting the code and rendering the pretty graphics. Sometimes this kernel gets bogged down or crashes and needs to be restarted. Try clicking the fast-forward button (restart kernel and re-run notebook). This will clear all outputs and rerun the notebook from the top down.\n",
    "\n",
    "## Jupyter in action\n",
    "The Jupyter notebook allows for complete reproducibility of scientific analyses. Most computational science involves writing code that imports and analyzes data, and then plots some results. Once you have that code working, you can copy and paste it into a Jupyter notebook and explain the important parts of your analysis with markdown cells.\n",
    "\n",
    "For a great example, see this Jupyter tutorial from LIGO on how to find gravitational waves (go to link and then run the notebook with Azure or mybinder): https://www.gw-openscience.org/tutorials/ "
   ]
  }
 ]
}