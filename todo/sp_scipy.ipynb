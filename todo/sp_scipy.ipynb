{
 "cells": [
  {
   "cell_type": "markdown",
   "metadata": {},
   "source": [
    "# Fitting Data with Scipy\n",
    "\n",
    "## Why Scipy?\n",
    "\n",
    "Scipy is a Python library that contains a variety of very useful mathematical algorithms and common data processing functions. It is a great tool for manipulating and visualizing data efficiently. Scipy and numpy go hand in hand. Most of the data processing you will do will probably involve one if not both of these libraries. Scipy is a great base for most types of scientific coding, and is complemented by numerous modules available for specific sub fields or tasks (ie: astropy, scikit-learn, pandas, etc). \n",
    "\n",
    "Scipy is organized into a subpackages containing functions to perform various high level tasks with your data. The subpackages are listed below:\n",
    "\n",
    "| Subpackage  |      Description      |  |Subpackage | Description |\n",
    "|----------|:-------------:| ---| ---| --- |\n",
    "| **cluster** |  Clustering algorithms | | **odr** | Orthogonal distance regression |\n",
    "| **constants** |   Physical and mathematical constants   | | **optimize** | Optimization and root-finding routines |\n",
    "| **fftpack**| Fast Fourier Transform routines | | **signal** | Signal processing |\n",
    "| **integrate** | Integration and ordinary differential equation solvers | | **sparse** | Sparse matrices and associated routines |\n",
    "| **interpolate** | Interpolation and smoothing splines | | **spatial** | Spatial data structures and algorithms |\n",
    "| **io** | \tInput and output | | **special** | Special functions |\n",
    "| **linalg** | Linear algebra | | **stats** | Statistical distributions and functions |\n",
    "| **ndimage** | N-dimensional image processing |\n",
    "\n",
    "We don't have nearly enough time to conver all of scipy in a single tutorial, so we are going to focus on a obe of the subpackages that I find most useful and use all the time - **optimize**.\n",
    "\n",
    "\n",
    "\n",
    "\n",
    "\n"
   ]
  },
  {
   "cell_type": "markdown",
   "metadata": {},
   "source": [
    "## A Brief Look at Scipy's *Optimize* Library\n",
    "### Basic Curve Fitting\n",
    "When you know the form your data should take, it is relatively straight forward to fit a curve to the data. The **scipy.optimize.curve_fit** function will find a best fit curve for the data that is input. However, you must already know the general form of the equation to fit to your data and create a function containing this information to use this function. The **curve_fit** finds the best set of coefficients or paramaters based on the function you provide using a least squares minimization - it finds the coefficient values for a curve with the smallest sum of the offsets or residuals of points from the curve.\n",
    "\n",
    "This means that if you're data is sinusoidal and you in put an exponential function, **curve_fit** will return the exponential curve that fits your data *best* - but it will probably be a terrible fit! You are resonsible for inputting a reasonable function when using this method. **curve_fit** is great when you want a model of your data to understand the basic relationship and be able to predict points efficiently. It is not the best choice when you do not know the general form of your data, or otherwise need to find the best possibe fit of any form.\n",
    "\n",
    "We will walk through an example of fitting an exponential curve to some data. \n",
    "\n",
    "First, let's load numpy to create our data, matplotlib.pyplot to plot everything, and scipy.optimize.curve_fit."
   ]
  },
  {
   "cell_type": "code",
   "execution_count": 42,
   "metadata": {},
   "outputs": [],
   "source": [
    "%matplotlib inline\n",
    "import matplotlib.pyplot as plt\n",
    "import numpy as np\n",
    "from scipy.optimize import curve_fit"
   ]
  },
  {
   "cell_type": "markdown",
   "metadata": {},
   "source": [
    "We can create some exponential data of the form a*np.exp(b*x) and use the random number function in numpy to add noise to our data. We'll take a look at the data using pyplot."
   ]
  },
  {
   "cell_type": "code",
   "execution_count": 58,
   "metadata": {},
   "outputs": [
    {
     "data": {
      "text/plain": [
       "[<matplotlib.lines.Line2D at 0x1026e9e3c8>]"
      ]
     },
     "execution_count": 58,
     "metadata": {},
     "output_type": "execute_result"
    },
    {
     "data": {
      "image/png": "[encoded data removed]",
      "text/plain": [
       "<Figure size 432x288 with 1 Axes>"
      ]
     },
     "metadata": {
      "needs_background": "light"
     },
     "output_type": "display_data"
    }
   ],
   "source": [
    "#Get x values\n",
    "x = np.linspace(0, 1, num = 40) \n",
    "#Get y values - noisy exponential\n",
    "y = 4.3 * np.exp(1.5 * x) + np.random.normal(size = 40) \n",
    "\n",
    "plt.plot(x,y,'o')"
   ]
  },
  {
   "cell_type": "markdown",
   "metadata": {},
   "source": [
    "**curve_fit** takes 3 required arguments:\n",
    "    - f: the function you want curve_fit to find the best coefficient values for \n",
    "    - xdata: a 1d array containing the data x values\n",
    "    - ydata: a 1d array containing the y values\n",
    "There are a number of optional keyword arguments that can be used to specify certain behaviors, for example setting bounds on the paramater values. Here, we are going to leave these as the default values, but you can see all of the available options in the documentation, [here](https://docs.scipy.org/doc/scipy/reference/generated/scipy.optimize.curve_fit.html). \n",
    "\n",
    "The first thing we need to do is define the function f. It should take the 1d array of x values as it's first argument, and each of the coefficients you want fit as the remaining arguments. f can have as many coefficients as necessary.\n",
    "\n",
    "In our case, we know we want to fit an exponential curve of the form a*np.exp(b*x), so our function can be defined as follows:"
   ]
  },
  {
   "cell_type": "code",
   "execution_count": 61,
   "metadata": {
    "collapsed": true
   },
   "outputs": [],
   "source": [
    "# Function form for curve fit\n",
    "def f(x, a, b): \n",
    "    return a*np.exp(b*x) "
   ]
  },
  {
   "cell_type": "markdown",
   "metadata": {},
   "source": [
    "Now we can input this into **curve_fit**. There are two values returned, so we have two variables on the left hand side of the function call, **coeff** and **coeff_cov**. The first is a 1d array with the optimized coefficeint values. We only asked the function to fit two coefficients, a and b, so our array has 2 values, [a b]. The second return gives the estimated covariance for each paramater, as a list of lists. The first list corresponds to paramater a and the second to b."
   ]
  },
  {
   "cell_type": "code",
   "execution_count": 63,
   "metadata": {},
   "outputs": [
    {
     "name": "stdout",
     "output_type": "stream",
     "text": [
      "Coefficients:\n",
      "[4.14146068 1.57237562]\n",
      "Covariance:\n",
      "[[ 0.03204184 -0.00951985]\n",
      " [-0.00951985  0.00311852]]\n"
     ]
    }
   ],
   "source": [
    "coeff, coeff_cov = curve_fit(f, x, y) \n",
    "print('Coefficients:')\n",
    "print(coeff)\n",
    "print('Covariance:')\n",
    "print(coeff_cov)"
   ]
  },
  {
   "cell_type": "markdown",
   "metadata": {},
   "source": [
    "We can now create an array that contains the y values of our exponential function with the optimized coefficients for each of the x values:"
   ]
  },
  {
   "cell_type": "code",
   "execution_count": 67,
   "metadata": {
    "collapsed": true
   },
   "outputs": [],
   "source": [
    "#a*np.exp(b*x)\n",
    "curve_y = coeff[0]*np.exp(coeff[1]*x)"
   ]
  },
  {
   "cell_type": "code",
   "execution_count": 69,
   "metadata": {},
   "outputs": [
    {
     "data": {
      "text/plain": [
       "array([ 4.14146068,  4.31184493,  4.48923898,  4.67393121,  4.86622188,\n",
       "        5.0664236 ,  5.27486184,  5.49187546,  5.71781726,  5.95305456,\n",
       "        6.19796977,  6.45296107,  6.71844299,  6.99484712,  7.28262283,\n",
       "        7.58223795,  7.89417956,  8.21895479,  8.55709164,  8.9091398 ,\n",
       "        9.27567162,  9.65728296, 10.0545942 , 10.46825127, 10.89892665,\n",
       "       11.34732048, 11.81416173, 12.30020935, 12.80625349, 13.33311685,\n",
       "       13.88165595, 14.45276255, 15.04736511, 15.66643026, 16.31096444,\n",
       "       16.98201547, 17.68067427, 18.40807667, 19.16540519, 19.95389105])"
      ]
     },
     "execution_count": 69,
     "metadata": {},
     "output_type": "execute_result"
    }
   ],
   "source": [
    "curve_y"
   ]
  },
  {
   "cell_type": "markdown",
   "metadata": {},
   "source": [
    "We see how well we fit the data by plotting the curve on top of the data."
   ]
  },
  {
   "cell_type": "code",
   "execution_count": 68,
   "metadata": {},
   "outputs": [
    {
     "data": {
      "text/plain": [
       "<matplotlib.legend.Legend at 0x10272ee9b0>"
      ]
     },
     "execution_count": 68,
     "metadata": {},
     "output_type": "execute_result"
    },
    {
     "data": {
      "image/png": "[encoded data removed]",
      "text/plain": [
       "<Figure size 432x288 with 1 Axes>"
      ]
     },
     "metadata": {
      "needs_background": "light"
     },
     "output_type": "display_data"
    }
   ],
   "source": [
    "#Plot the data and the curve fit\n",
    "plt.plot(x, y, 'o', color ='b', label =\"data\") \n",
    "plt.plot(x, curve_y, '-', color ='r', label =\"curve fit\") \n",
    "plt.legend() "
   ]
  },
  {
   "cell_type": "markdown",
   "metadata": {},
   "source": [
    "### Other Optimizations\n",
    "There are all sorts of other things you can do with optimize - non linear least squares optimization, global search for the minimum, root finding, etc. Any standard mathematical optimization can probably be done with scipy - your job will be to figure out which one is right for your data. Once you know that, the scipy documentation is really great and should be able to walk you through that optimization.\n",
    "\n",
    "## Scipy Interpolate\n",
    "A common thing you will need to do (especially if you work with spectra) is to resample your data using spline interpolation. There are several functions which can accomplish this with relative ease in **scipy.interpolate**. We will focus on the simplest - for univariate spline interpolation in 1d, called **interp1d**.\n",
    "\n",
    "Basically this is a way to re-sample our data at any new x positions that we need. **interp1d** will calculate the most likely new y value for each new x value we give it. \n",
    "\n",
    "We'll start by defining some data points - again we use an exponential for simplicity."
   ]
  },
  {
   "cell_type": "code",
   "execution_count": 73,
   "metadata": {},
   "outputs": [
    {
     "data": {
      "text/plain": [
       "[<matplotlib.lines.Line2D at 0x102764a5f8>]"
      ]
     },
     "execution_count": 73,
     "metadata": {},
     "output_type": "execute_result"
    },
    {
     "data": {
      "image/png": "[encoded data removed]",
      "text/plain": [
       "<Figure size 432x288 with 1 Axes>"
      ]
     },
     "metadata": {
      "needs_background": "light"
     },
     "output_type": "display_data"
    }
   ],
   "source": [
    "#X from 1 to 10\n",
    "x = np.arange(0, 10)\n",
    "#Get y values\n",
    "y = np.exp(-x/5.0)\n",
    "plt.plot(x,y,'o')"
   ]
  },
  {
   "cell_type": "markdown",
   "metadata": {},
   "source": [
    "We use interp1d to get f - this is an object that acts much like a mathematical function. You can input a new x value and f will return the expected y value."
   ]
  },
  {
   "cell_type": "code",
   "execution_count": 74,
   "metadata": {
    "collapsed": true
   },
   "outputs": [],
   "source": [
    "from scipy import interpolate\n",
    "f = interpolate.interp1d(x, y)"
   ]
  },
  {
   "cell_type": "markdown",
   "metadata": {},
   "source": [
    "Now, we simply need to define what our new x values will be and input them into our spline, f:"
   ]
  },
  {
   "cell_type": "code",
   "execution_count": 79,
   "metadata": {},
   "outputs": [
    {
     "data": {
      "text/plain": [
       "<matplotlib.legend.Legend at 0x1327d259e8>"
      ]
     },
     "execution_count": 79,
     "metadata": {},
     "output_type": "execute_result"
    },
    {
     "data": {
      "image/png": "[encoded data removed]",
      "text/plain": [
       "<Figure size 432x288 with 1 Axes>"
      ]
     },
     "metadata": {
      "needs_background": "light"
     },
     "output_type": "display_data"
    }
   ],
   "source": [
    "xnew = np.arange(0, 9, 0.25)\n",
    "ynew = f(xnew) #Input new x's into f\n",
    "plt.plot(xnew,ynew,'r', marker='o', label='New Points')\n",
    "plt.plot(x,y,'o', label='Initial Data')\n",
    "plt.legend()"
   ]
  },
  {
   "cell_type": "markdown",
   "metadata": {},
   "source": [
    "As you can see from the plot, **interp1d** has filled in data points at x values that did not originially exist in our data (all of the red dots). The points that already existed kept their exact value. This is a very basic 1d spline."
   ]
  },
  {
   "cell_type": "markdown",
   "metadata": {},
   "source": [
    "## Scipy is Useful!\n",
    "These are two basic, yet very common uses of scipy - but it's capabilities extend far beyond what we can cover in this tutorial. Whenever you need to do any standard mathematical optimization or data processes, I suggest you first look to see if there is already a function in scipy that can accomplish what you need. When there isn't, it's often something highly specialized or field dependent, and you may find it in a library or module that's tied to your specific area of science or data type. Google is your friend, take advantage of the extensive amounts of documentation and open source code available to you. There's no need to re-invent the wheel if there's already code out there that is designed to do exactly what you need."
   ]
  },
  {
   "cell_type": "code",
   "execution_count": null,
   "metadata": {
    "collapsed": true
   },
   "outputs": [],
   "source": []
  },
  {
   "cell_type": "code",
   "execution_count": null,
   "metadata": {
    "collapsed": true
   },
   "outputs": [],
   "source": []
  }
 ],
 "metadata": {
  "kernelspec": {
   "display_name": "Python 3",
   "language": "python",
   "name": "python3"
  },
  "language_info": {
   "codemirror_mode": {
    "name": "ipython",
    "version": 3
   },
   "file_extension": ".py",
   "mimetype": "text/x-python",
   "name": "python",
   "nbconvert_exporter": "python",
   "pygments_lexer": "ipython3",
   "version": "3.6.7"
  },
  "toc": {
   "nav_menu": {},
   "number_sections": true,
   "sideBar": true,
   "skip_h1_title": false,
   "title_cell": "Table of Contents",
   "title_sidebar": "Contents",
   "toc_cell": false,
   "toc_position": {},
   "toc_section_display": true,
   "toc_window_display": false
  },
  "varInspector": {
   "cols": {
    "lenName": 16,
    "lenType": 16,
    "lenVar": 40
   },
   "kernels_config": {
    "python": {
     "delete_cmd_postfix": "",
     "delete_cmd_prefix": "del ",
     "library": "var_list.py",
     "varRefreshCmd": "print(var_dic_list())"
    },
    "r": {
     "delete_cmd_postfix": ") ",
     "delete_cmd_prefix": "rm(",
     "library": "var_list.r",
     "varRefreshCmd": "cat(var_dic_list()) "
    }
   },
   "types_to_exclude": [
    "module",
    "function",
    "builtin_function_or_method",
    "instance",
    "_Feature"
   ],
   "window_display": false
  }
 },
 "nbformat": 4,
 "nbformat_minor": 2
}
